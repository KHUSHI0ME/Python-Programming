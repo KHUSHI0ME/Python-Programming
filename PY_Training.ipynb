{
  "cells": [
    {
      "cell_type": "markdown",
      "metadata": {
        "id": "view-in-github",
        "colab_type": "text"
      },
      "source": [
        "<a href=\"https://colab.research.google.com/github/KHUSHI0ME/Python-Programming/blob/main/PY_Training.ipynb\" target=\"_parent\"><img src=\"https://colab.research.google.com/assets/colab-badge.svg\" alt=\"Open In Colab\"/></a>"
      ]
    },
    {
      "cell_type": "code",
      "execution_count": null,
      "metadata": {
        "colab": {
          "base_uri": "https://localhost:8080/"
        },
        "id": "tqx-HiBaFm-L",
        "outputId": "399edf39-eba4-4445-da30-286979e78577"
      },
      "outputs": [
        {
          "data": {
            "text/plain": [
              "7"
            ]
          },
          "execution_count": 1,
          "metadata": {},
          "output_type": "execute_result"
        }
      ],
      "source": [
        "3+4"
      ]
    },
    {
      "cell_type": "code",
      "execution_count": null,
      "metadata": {
        "colab": {
          "base_uri": "https://localhost:8080/"
        },
        "id": "Sa57yzs-F4cL",
        "outputId": "ed3f0682-3301-4b7e-9e88-dd0bd72c89bb"
      },
      "outputs": [
        {
          "name": "stdout",
          "output_type": "stream",
          "text": [
            "Hello World\n"
          ]
        }
      ],
      "source": [
        "print(\"Hello World\")"
      ]
    },
    {
      "cell_type": "code",
      "execution_count": null,
      "metadata": {
        "colab": {
          "base_uri": "https://localhost:8080/",
          "height": 53
        },
        "id": "OMkYU0oDGGwv",
        "outputId": "54a90381-b83b-469a-c8b1-257a6a28fa43"
      },
      "outputs": [
        {
          "name": "stdout",
          "output_type": "stream",
          "text": [
            "what is your namekhushi\n"
          ]
        },
        {
          "data": {
            "application/vnd.google.colaboratory.intrinsic+json": {
              "type": "string"
            },
            "text/plain": [
              "'khushi'"
            ]
          },
          "execution_count": 3,
          "metadata": {},
          "output_type": "execute_result"
        }
      ],
      "source": [
        "input(\"what is your name\")  #this is my first python program"
      ]
    },
    {
      "cell_type": "code",
      "execution_count": null,
      "metadata": {
        "colab": {
          "base_uri": "https://localhost:8080/"
        },
        "id": "B2YgchnEJb2y",
        "outputId": "e8cab7cc-aa63-49eb-ef3a-27f41db14d87"
      },
      "outputs": [
        {
          "name": "stdout",
          "output_type": "stream",
          "text": [
            "enter your namekhushi\n",
            "my Name is: khushi\n"
          ]
        }
      ],
      "source": [
        "a=input(\"enter your name\")\n",
        "print(\"my Name is:\" ,a)"
      ]
    },
    {
      "cell_type": "code",
      "execution_count": null,
      "metadata": {
        "colab": {
          "base_uri": "https://localhost:8080/"
        },
        "id": "4RYS80ypLrKH",
        "outputId": "c9614b22-823f-4f31-c27a-dfdea475afe6"
      },
      "outputs": [
        {
          "name": "stdout",
          "output_type": "stream",
          "text": [
            "5\n"
          ]
        },
        {
          "data": {
            "text/plain": [
              "int"
            ]
          },
          "execution_count": 12,
          "metadata": {},
          "output_type": "execute_result"
        }
      ],
      "source": [
        "x=5\n",
        "y= \"hello\"\n",
        "print(x)\n",
        "type(x)"
      ]
    },
    {
      "cell_type": "code",
      "execution_count": null,
      "metadata": {
        "colab": {
          "base_uri": "https://localhost:8080/",
          "height": 176
        },
        "id": "pFgujhwFMIiE",
        "outputId": "e1fd93be-80a6-4b49-81dd-a27f6d607fcd"
      },
      "outputs": [
        {
          "ename": "TypeError",
          "evalue": "can only concatenate str (not \"int\") to str",
          "output_type": "error",
          "traceback": [
            "\u001b[0;31m---------------------------------------------------------------------------\u001b[0m",
            "\u001b[0;31mTypeError\u001b[0m                                 Traceback (most recent call last)",
            "\u001b[0;32m/tmp/ipython-input-14-2831346053.py\u001b[0m in \u001b[0;36m<cell line: 0>\u001b[0;34m()\u001b[0m\n\u001b[1;32m      1\u001b[0m \u001b[0mx\u001b[0m\u001b[0;34m=\u001b[0m\u001b[0;34m\"1234\"\u001b[0m\u001b[0;34m\u001b[0m\u001b[0;34m\u001b[0m\u001b[0m\n\u001b[1;32m      2\u001b[0m \u001b[0my\u001b[0m\u001b[0;34m=\u001b[0m\u001b[0;36m5\u001b[0m\u001b[0;34m\u001b[0m\u001b[0;34m\u001b[0m\u001b[0m\n\u001b[0;32m----> 3\u001b[0;31m \u001b[0mx\u001b[0m\u001b[0;34m+\u001b[0m\u001b[0my\u001b[0m\u001b[0;34m\u001b[0m\u001b[0;34m\u001b[0m\u001b[0m\n\u001b[0m",
            "\u001b[0;31mTypeError\u001b[0m: can only concatenate str (not \"int\") to str"
          ]
        }
      ],
      "source": [
        "x=\"1234\"\n",
        "y=5        #not same datatype\n",
        "x+y\n"
      ]
    },
    {
      "cell_type": "code",
      "execution_count": null,
      "metadata": {
        "colab": {
          "base_uri": "https://localhost:8080/"
        },
        "id": "dWALN2LDMtHb",
        "outputId": "e63383c4-eaaa-465b-eda9-439f058aca0f"
      },
      "outputs": [
        {
          "data": {
            "text/plain": [
              "128"
            ]
          },
          "execution_count": 15,
          "metadata": {},
          "output_type": "execute_result"
        }
      ],
      "source": [
        "x=\"123\"\n",
        "y=5\n",
        "int(x)+y      #convert itno string datatype"
      ]
    },
    {
      "cell_type": "code",
      "execution_count": null,
      "metadata": {
        "colab": {
          "base_uri": "https://localhost:8080/"
        },
        "id": "x11B9cARNNgP",
        "outputId": "dea219f3-6477-43b7-df0d-c8c8f1d2fc7a"
      },
      "outputs": [
        {
          "name": "stdout",
          "output_type": "stream",
          "text": [
            "10757800\n"
          ]
        }
      ],
      "source": [
        "x=3\n",
        "y=x\n",
        "print(id(x))   #id pata chalti h\n",
        "  #id same aaayegi"
      ]
    },
    {
      "cell_type": "code",
      "execution_count": null,
      "metadata": {
        "colab": {
          "base_uri": "https://localhost:8080/"
        },
        "id": "lZBLw3O-PO8Z",
        "outputId": "afbcbbd2-ed3a-4574-b22a-214063ffb011"
      },
      "outputs": [
        {
          "name": "stdout",
          "output_type": "stream",
          "text": [
            "10757800\n"
          ]
        }
      ],
      "source": [
        "x=3\n",
        "y=x\n",
        "\n",
        "print(id(y))"
      ]
    },
    {
      "cell_type": "code",
      "execution_count": null,
      "metadata": {
        "colab": {
          "base_uri": "https://localhost:8080/"
        },
        "id": "xIb_zbdnPYia",
        "outputId": "e264ff75-f9ca-42d7-97a1-4040079198e2"
      },
      "outputs": [
        {
          "name": "stdout",
          "output_type": "stream",
          "text": [
            "10757768\n"
          ]
        }
      ],
      "source": [
        "y=2\n",
        "x=3\n",
        "\n",
        "print(id(y))"
      ]
    },
    {
      "cell_type": "code",
      "execution_count": null,
      "metadata": {
        "colab": {
          "base_uri": "https://localhost:8080/"
        },
        "id": "1FPCRNi2QGz8",
        "outputId": "7f85f58b-4de7-4694-cbd0-d3c0a4859a02"
      },
      "outputs": [
        {
          "name": "stdout",
          "output_type": "stream",
          "text": [
            "['False', 'None', 'True', 'and', 'as', 'assert', 'async', 'await', 'break', 'class', 'continue', 'def', 'del', 'elif', 'else', 'except', 'finally', 'for', 'from', 'global', 'if', 'import', 'in', 'is', 'lambda', 'nonlocal', 'not', 'or', 'pass', 'raise', 'return', 'try', 'while', 'with', 'yield']\n"
          ]
        }
      ],
      "source": [
        "import keyword\n",
        "print(keyword.kwlist)"
      ]
    },
    {
      "cell_type": "code",
      "execution_count": null,
      "metadata": {
        "colab": {
          "base_uri": "https://localhost:8080/"
        },
        "id": "sELMVJgNTcyE",
        "outputId": "51f251be-a92b-42a8-a4c2-6bef206b6fe6"
      },
      "outputs": [
        {
          "data": {
            "text/plain": [
              "(8+4j)"
            ]
          },
          "execution_count": 24,
          "metadata": {},
          "output_type": "execute_result"
        }
      ],
      "source": [
        "x=5\n",
        "y=3+4j\n",
        "int(x)+complex(y)        #j se complex store huya hua h\n"
      ]
    },
    {
      "cell_type": "code",
      "execution_count": null,
      "metadata": {
        "colab": {
          "base_uri": "https://localhost:8080/"
        },
        "id": "raajHy_MVLi8",
        "outputId": "eaeeb156-efbf-4275-a01e-df7190785ca2"
      },
      "outputs": [
        {
          "name": "stdout",
          "output_type": "stream",
          "text": [
            "0b101\n"
          ]
        },
        {
          "data": {
            "text/plain": [
              "int"
            ]
          },
          "execution_count": 28,
          "metadata": {},
          "output_type": "execute_result"
        }
      ],
      "source": [
        "x=0b101\n",
        "print(bin(x))\n",
        "type (x)          #binary ka type pata karn eke liye bin use karte h"
      ]
    },
    {
      "cell_type": "code",
      "execution_count": null,
      "metadata": {
        "colab": {
          "base_uri": "https://localhost:8080/"
        },
        "id": "nTMxydGpYHUy",
        "outputId": "8ce61bae-c4a6-4725-b144-c1f9f735fc41"
      },
      "outputs": [
        {
          "data": {
            "text/plain": [
              "(16, 3)"
            ]
          },
          "execution_count": 29,
          "metadata": {},
          "output_type": "execute_result"
        }
      ],
      "source": [
        "4**2,3"
      ]
    },
    {
      "cell_type": "code",
      "execution_count": null,
      "metadata": {
        "colab": {
          "base_uri": "https://localhost:8080/"
        },
        "id": "mBN0Nn1faYHU",
        "outputId": "59babfd1-0fb6-41a3-cd6a-47bc161fa174"
      },
      "outputs": [
        {
          "data": {
            "text/plain": [
              "10995116277760000000000000000000000000000000000000000"
            ]
          },
          "execution_count": 30,
          "metadata": {},
          "output_type": "execute_result"
        }
      ],
      "source": [
        "20**40"
      ]
    },
    {
      "cell_type": "code",
      "execution_count": null,
      "metadata": {
        "id": "aUiiNULsa_-G"
      },
      "outputs": [],
      "source": [
        "+ and * had a dual meaning + for concentration in string"
      ]
    },
    {
      "cell_type": "markdown",
      "metadata": {
        "id": "Cc_HoydHayeK"
      },
      "source": []
    },
    {
      "cell_type": "code",
      "execution_count": null,
      "metadata": {
        "colab": {
          "base_uri": "https://localhost:8080/",
          "height": 36
        },
        "id": "umIQGnK-a185",
        "outputId": "8eeaada0-5e6d-48d2-fae8-cb7d33b712a3"
      },
      "outputs": [
        {
          "data": {
            "application/vnd.google.colaboratory.intrinsic+json": {
              "type": "string"
            },
            "text/plain": [
              "'ababab'"
            ]
          },
          "execution_count": 31,
          "metadata": {},
          "output_type": "execute_result"
        }
      ],
      "source": [
        "\"ab\"*3"
      ]
    },
    {
      "cell_type": "markdown",
      "metadata": {
        "id": "opnFARW1bPx5"
      },
      "source": [
        "In * we write \"ab\"*3 so behavior will be repetition"
      ]
    },
    {
      "cell_type": "code",
      "execution_count": null,
      "metadata": {
        "colab": {
          "base_uri": "https://localhost:8080/",
          "height": 106
        },
        "id": "ATRX7ZBtboMK",
        "outputId": "9afdb64d-b217-4fb3-a45b-d86b4947f1ff"
      },
      "outputs": [
        {
          "ename": "SyntaxError",
          "evalue": "cannot assign to expression (ipython-input-33-2293034188.py, line 1)",
          "output_type": "error",
          "traceback": [
            "\u001b[0;36m  File \u001b[0;32m\"/tmp/ipython-input-33-2293034188.py\"\u001b[0;36m, line \u001b[0;32m1\u001b[0m\n\u001b[0;31m    3 and x=4\u001b[0m\n\u001b[0m    ^\u001b[0m\n\u001b[0;31mSyntaxError\u001b[0m\u001b[0;31m:\u001b[0m cannot assign to expression\n"
          ]
        }
      ],
      "source": [
        "3 and x=4"
      ]
    },
    {
      "cell_type": "code",
      "execution_count": null,
      "metadata": {
        "colab": {
          "base_uri": "https://localhost:8080/"
        },
        "id": "isS3HDEwcFZF",
        "outputId": "6ebf9bbf-de2d-4346-9a8e-7b75e7561689"
      },
      "outputs": [
        {
          "data": {
            "text/plain": [
              "True"
            ]
          },
          "execution_count": 34,
          "metadata": {},
          "output_type": "execute_result"
        }
      ],
      "source": [
        "3 and 4>2"
      ]
    },
    {
      "cell_type": "code",
      "execution_count": null,
      "metadata": {
        "colab": {
          "base_uri": "https://localhost:8080/"
        },
        "id": "NGJaxXrydQKR",
        "outputId": "f27a5f77-d937-4be2-9f9e-28063c50ec59"
      },
      "outputs": [
        {
          "name": "stdout",
          "output_type": "stream",
          "text": [
            "a= 5\n",
            "b= 10\n",
            "addition: 15\n"
          ]
        }
      ],
      "source": [
        "a=5\n",
        "b=10\n",
        "print(\"a=\",a)\n",
        "print(\"b=\",b)\n",
        "print(\"addition:\",a + b)\n",
        "print(\"subtration:\",a-b)\n",
        "print(multiplication)\n",
        "\n"
      ]
    },
    {
      "cell_type": "code",
      "execution_count": null,
      "metadata": {
        "colab": {
          "base_uri": "https://localhost:8080/"
        },
        "id": "eQDAyRSZhBZZ",
        "outputId": "72c388e3-189d-4159-e382-210fb8ade942"
      },
      "outputs": [
        {
          "name": "stdout",
          "output_type": "stream",
          "text": [
            "subtraction: -5\n"
          ]
        }
      ],
      "source": [
        "a=5\n",
        "b=10\n",
        "print(\"subtraction:\",a - b)"
      ]
    },
    {
      "cell_type": "code",
      "execution_count": null,
      "metadata": {
        "colab": {
          "base_uri": "https://localhost:8080/"
        },
        "id": "yuHyJ0aaOyOf",
        "outputId": "46cd1aad-5b66-4899-e896-e5806a2b1b8a"
      },
      "outputs": [
        {
          "data": {
            "text/plain": [
              "4"
            ]
          },
          "execution_count": 1,
          "metadata": {},
          "output_type": "execute_result"
        }
      ],
      "source": [
        "5&6"
      ]
    },
    {
      "cell_type": "markdown",
      "metadata": {
        "id": "rCWmX4sGTLkr"
      },
      "source": []
    },
    {
      "cell_type": "markdown",
      "metadata": {
        "id": "wRYsxNR6TLp5"
      },
      "source": [
        "ese operator jaha bit me value ho unhe bitwaise operator kehte h"
      ]
    },
    {
      "cell_type": "code",
      "execution_count": null,
      "metadata": {
        "colab": {
          "base_uri": "https://localhost:8080/"
        },
        "id": "qceIvXLlTWYL",
        "outputId": "77383289-023f-402d-ea59-a67c9aad0db8"
      },
      "outputs": [
        {
          "name": "stdout",
          "output_type": "stream",
          "text": [
            "Enter number 1:7\n",
            "Enter number 2:9\n",
            "Number a is: 7\n",
            "Number b is: 9\n",
            "Sum is 16\n"
          ]
        }
      ],
      "source": [
        "#type function\n",
        "\n",
        "a = int(input(\"Enter number 1:\"))\n",
        "\n",
        "b = int(input(\"Enter number 2:\"))\n",
        "\n",
        "print(\"Number a is:\",a)\n",
        "print(\"Number b is:\", b)\n",
        "print(\"Sum is\", int(a)+int(b))\n"
      ]
    },
    {
      "cell_type": "code",
      "execution_count": null,
      "metadata": {
        "colab": {
          "base_uri": "https://localhost:8080/"
        },
        "id": "c528nn_JUyZM",
        "outputId": "84ad4c34-616b-49c3-a925-87bafc5e1e75"
      },
      "outputs": [
        {
          "name": "stdout",
          "output_type": "stream",
          "text": [
            "2\n",
            "9\n"
          ]
        }
      ],
      "source": [
        "# Assignment operators\n",
        "a = 4-2 #Assign 4-2 in a\n",
        "print (a)\n",
        "b = 6\n",
        "b += 3 #INCREMENT in the value of b and then assign value of b to it\n",
        "print(b)"
      ]
    },
    {
      "cell_type": "code",
      "execution_count": null,
      "metadata": {
        "colab": {
          "base_uri": "https://localhost:8080/"
        },
        "id": "e7q-rbnvVLOn",
        "outputId": "8c62f99b-a099-4f57-8736-6f2aa3135a02"
      },
      "outputs": [
        {
          "name": "stdout",
          "output_type": "stream",
          "text": [
            "60\n"
          ]
        }
      ],
      "source": [
        "#multipication assignment operator\n",
        "d = 5\n",
        "d*=6+6\n",
        "print(d)"
      ]
    },
    {
      "cell_type": "markdown",
      "metadata": {
        "id": "2vX5QIFDVlow"
      },
      "source": [
        "firstly 6+6 hoga and then d se multiply hoga"
      ]
    },
    {
      "cell_type": "code",
      "execution_count": null,
      "metadata": {
        "colab": {
          "base_uri": "https://localhost:8080/"
        },
        "id": "9aZG56MAVhXQ",
        "outputId": "b3c4962b-bb2d-4216-89a8-75b8caf22f23"
      },
      "outputs": [
        {
          "name": "stdout",
          "output_type": "stream",
          "text": [
            "2\n",
            "3\n"
          ]
        }
      ],
      "source": [
        "a = 4-2 #Assign 4-2 in a\n",
        "print (a)\n",
        "b = 6\n",
        "b -= 3 # DECREMENT in the value of b and then assign value of b to it\n",
        "print(b)"
      ]
    },
    {
      "cell_type": "markdown",
      "metadata": {
        "id": "J-nuV5oiWE4T"
      },
      "source": [
        "iteration value bar baar repeat karne ke liye"
      ]
    },
    {
      "cell_type": "code",
      "execution_count": null,
      "metadata": {
        "colab": {
          "base_uri": "https://localhost:8080/"
        },
        "id": "wn6Rrj3qVjoH",
        "outputId": "c9692a96-2b6a-4403-a6b7-342b4ea55bd0"
      },
      "outputs": [
        {
          "name": "stdout",
          "output_type": "stream",
          "text": [
            "23\n"
          ]
        }
      ],
      "source": [
        "#division assignment operator\n",
        "s = 65\n",
        "s%=7*6\n",
        "print(s)\n"
      ]
    },
    {
      "cell_type": "code",
      "execution_count": null,
      "metadata": {
        "colab": {
          "base_uri": "https://localhost:8080/"
        },
        "id": "fLGQYpbqYIJ6",
        "outputId": "6c3c3fb3-7bd1-426b-911e-3677c7bbc57c"
      },
      "outputs": [
        {
          "name": "stdout",
          "output_type": "stream",
          "text": [
            "Enter the base of the triangle: 7.8\n",
            "Enter the height of the triangle: 9.0\n",
            "The area of the triangle is: 35.1\n"
          ]
        }
      ],
      "source": [
        "#AREA OF TRIANGLE PROGRAM\n",
        "\n",
        "base = float(input(\"Enter the base of the triangle: \"))\n",
        "height = float(input(\"Enter the height of the triangle: \"))\n",
        "\n",
        "# Calculate area by the formula : (1/2) * base * height\n",
        "area = 0.5 * base * height\n",
        "\n",
        "\n",
        "print(\"The area of the triangle is:\", area)"
      ]
    },
    {
      "cell_type": "code",
      "execution_count": null,
      "metadata": {
        "colab": {
          "base_uri": "https://localhost:8080/"
        },
        "id": "iOlsnSsPAEso",
        "outputId": "fd6d9b74-93ca-44c8-c4a2-3fd50f0efda5"
      },
      "outputs": [
        {
          "name": "stdout",
          "output_type": "stream",
          "text": [
            "Enter first number: 76\n",
            "Enter second number: 87\n",
            "Enter operation (+, -, *, /): +\n",
            "Result: 163.0\n"
          ]
        }
      ],
      "source": [
        "# Input from user\n",
        "num1 = float(input(\"Enter first number: \"))\n",
        "num2 = float(input(\"Enter second number: \"))\n",
        "operator = input(\"Enter operation (+, -, *, /): \")\n",
        "\n",
        "# Dictionary to perform operations\n",
        "result = {\n",
        "    '+': num1 + num2,\n",
        "    '-': num1 - num2,\n",
        "    '*': num1 * num2,\n",
        "    '/': num1 / num2 if num2 != 0 else \"Cannot divide by zero\"\n",
        "}.get(operator, \"Invalid operator\")\n",
        "\n",
        "# Output the result\n",
        "print(\"Result:\", result)"
      ]
    },
    {
      "cell_type": "code",
      "execution_count": null,
      "metadata": {
        "colab": {
          "base_uri": "https://localhost:8080/"
        },
        "id": "7Hkp7kUhJNI6",
        "outputId": "495b7a02-995d-4008-fddb-d133ecc2f03c"
      },
      "outputs": [
        {
          "name": "stdout",
          "output_type": "stream",
          "text": [
            "143\n"
          ]
        }
      ],
      "source": [
        "a = 65\n",
        "b = 78\n",
        "print(a+b)"
      ]
    },
    {
      "cell_type": "markdown",
      "metadata": {
        "id": "pT1YxevcKOwY"
      },
      "source": [
        "problem : Problem: Write a program to add two numbers and display the result"
      ]
    },
    {
      "cell_type": "code",
      "execution_count": null,
      "metadata": {
        "colab": {
          "base_uri": "https://localhost:8080/"
        },
        "id": "aXvf8aPRKWgK",
        "outputId": "c7f9dc2c-fc64-41c8-e7aa-a586c06c2aba"
      },
      "outputs": [
        {
          "name": "stdout",
          "output_type": "stream",
          "text": [
            "Enter the radius of the circle : 65\n",
            "area of circle 13266.5\n"
          ]
        }
      ],
      "source": [
        "# CALCULATE AREA OF CIRCLE\n",
        "pi = 3.14\n",
        "radius = float(input (\"Enter the radius of the circle : \"))\n",
        "# Calculate the area by using the formula\n",
        "\n",
        "area = pi * radius * radius\n",
        "print(\"area of circle\", area)\n"
      ]
    },
    {
      "cell_type": "code",
      "execution_count": null,
      "metadata": {
        "colab": {
          "base_uri": "https://localhost:8080/"
        },
        "id": "nDWUxWNYL89I",
        "outputId": "893e450e-389b-4818-a173-ec765134761b"
      },
      "outputs": [
        {
          "name": "stdout",
          "output_type": "stream",
          "text": [
            "Simple Interest 1200.0\n"
          ]
        }
      ],
      "source": [
        "# CALCULATE SIMPLE INTEREST\n",
        "P = 50\n",
        "R = 80\n",
        "T = 30\n",
        "# Calculate by using the formula\n",
        "SI = (P * R * T) / 100\n",
        "print(\"Simple Interest\", SI)\n"
      ]
    },
    {
      "cell_type": "markdown",
      "metadata": {
        "id": "Kjd3bMiJYDv5"
      },
      "source": [
        "# use of import,as,form\n",
        "module is the python file consisiting of python code\n",
        "module can define functions,classes,and variables\n",
        "jo keywords phle se hi define h aur hume use karn ah toh hum use import karwa sakte h\n",
        "Math.py file that consist of function which we can use.\n",
        " () = yeh function define karta h ki yeh words function h\n",
        "\n"
      ]
    },
    {
      "cell_type": "code",
      "execution_count": null,
      "metadata": {
        "colab": {
          "base_uri": "https://localhost:8080/"
        },
        "id": "yzpIs0iMZkC4",
        "outputId": "6a4aedfc-c15a-40e9-c13a-65aff718c0e5"
      },
      "outputs": [
        {
          "data": {
            "text/plain": [
              "120"
            ]
          },
          "execution_count": 21,
          "metadata": {},
          "output_type": "execute_result"
        }
      ],
      "source": [
        "import math\n",
        "math.factorial(5)"
      ]
    },
    {
      "cell_type": "code",
      "execution_count": null,
      "metadata": {
        "colab": {
          "base_uri": "https://localhost:8080/"
        },
        "id": "gLKEX6j9Z9yJ",
        "outputId": "963ce867-50cf-4a09-e9c0-276d3dc9a8f9"
      },
      "outputs": [
        {
          "data": {
            "text/plain": [
              "5.0"
            ]
          },
          "execution_count": 24,
          "metadata": {},
          "output_type": "execute_result"
        }
      ],
      "source": [
        "import math\n",
        "math.sqrt(25)\n"
      ]
    },
    {
      "cell_type": "code",
      "execution_count": null,
      "metadata": {
        "colab": {
          "base_uri": "https://localhost:8080/"
        },
        "id": "bBFsKUDGaR6p",
        "outputId": "34fb9bde-b78a-4cef-eb96-007590470824"
      },
      "outputs": [
        {
          "name": "stdout",
          "output_type": "stream",
          "text": [
            "Help on built-in module math:\n",
            "\n",
            "NAME\n",
            "    math\n",
            "\n",
            "DESCRIPTION\n",
            "    This module provides access to the mathematical functions\n",
            "    defined by the C standard.\n",
            "\n",
            "FUNCTIONS\n",
            "    acos(x, /)\n",
            "        Return the arc cosine (measured in radians) of x.\n",
            "        \n",
            "        The result is between 0 and pi.\n",
            "    \n",
            "    acosh(x, /)\n",
            "        Return the inverse hyperbolic cosine of x.\n",
            "    \n",
            "    asin(x, /)\n",
            "        Return the arc sine (measured in radians) of x.\n",
            "        \n",
            "        The result is between -pi/2 and pi/2.\n",
            "    \n",
            "    asinh(x, /)\n",
            "        Return the inverse hyperbolic sine of x.\n",
            "    \n",
            "    atan(x, /)\n",
            "        Return the arc tangent (measured in radians) of x.\n",
            "        \n",
            "        The result is between -pi/2 and pi/2.\n",
            "    \n",
            "    atan2(y, x, /)\n",
            "        Return the arc tangent (measured in radians) of y/x.\n",
            "        \n",
            "        Unlike atan(y/x), the signs of both x and y are considered.\n",
            "    \n",
            "    atanh(x, /)\n",
            "        Return the inverse hyperbolic tangent of x.\n",
            "    \n",
            "    cbrt(x, /)\n",
            "        Return the cube root of x.\n",
            "    \n",
            "    ceil(x, /)\n",
            "        Return the ceiling of x as an Integral.\n",
            "        \n",
            "        This is the smallest integer >= x.\n",
            "    \n",
            "    comb(n, k, /)\n",
            "        Number of ways to choose k items from n items without repetition and without order.\n",
            "        \n",
            "        Evaluates to n! / (k! * (n - k)!) when k <= n and evaluates\n",
            "        to zero when k > n.\n",
            "        \n",
            "        Also called the binomial coefficient because it is equivalent\n",
            "        to the coefficient of k-th term in polynomial expansion of the\n",
            "        expression (1 + x)**n.\n",
            "        \n",
            "        Raises TypeError if either of the arguments are not integers.\n",
            "        Raises ValueError if either of the arguments are negative.\n",
            "    \n",
            "    copysign(x, y, /)\n",
            "        Return a float with the magnitude (absolute value) of x but the sign of y.\n",
            "        \n",
            "        On platforms that support signed zeros, copysign(1.0, -0.0)\n",
            "        returns -1.0.\n",
            "    \n",
            "    cos(x, /)\n",
            "        Return the cosine of x (measured in radians).\n",
            "    \n",
            "    cosh(x, /)\n",
            "        Return the hyperbolic cosine of x.\n",
            "    \n",
            "    degrees(x, /)\n",
            "        Convert angle x from radians to degrees.\n",
            "    \n",
            "    dist(p, q, /)\n",
            "        Return the Euclidean distance between two points p and q.\n",
            "        \n",
            "        The points should be specified as sequences (or iterables) of\n",
            "        coordinates.  Both inputs must have the same dimension.\n",
            "        \n",
            "        Roughly equivalent to:\n",
            "            sqrt(sum((px - qx) ** 2.0 for px, qx in zip(p, q)))\n",
            "    \n",
            "    erf(x, /)\n",
            "        Error function at x.\n",
            "    \n",
            "    erfc(x, /)\n",
            "        Complementary error function at x.\n",
            "    \n",
            "    exp(x, /)\n",
            "        Return e raised to the power of x.\n",
            "    \n",
            "    exp2(x, /)\n",
            "        Return 2 raised to the power of x.\n",
            "    \n",
            "    expm1(x, /)\n",
            "        Return exp(x)-1.\n",
            "        \n",
            "        This function avoids the loss of precision involved in the direct evaluation of exp(x)-1 for small x.\n",
            "    \n",
            "    fabs(x, /)\n",
            "        Return the absolute value of the float x.\n",
            "    \n",
            "    factorial(n, /)\n",
            "        Find n!.\n",
            "        \n",
            "        Raise a ValueError if x is negative or non-integral.\n",
            "    \n",
            "    floor(x, /)\n",
            "        Return the floor of x as an Integral.\n",
            "        \n",
            "        This is the largest integer <= x.\n",
            "    \n",
            "    fmod(x, y, /)\n",
            "        Return fmod(x, y), according to platform C.\n",
            "        \n",
            "        x % y may differ.\n",
            "    \n",
            "    frexp(x, /)\n",
            "        Return the mantissa and exponent of x, as pair (m, e).\n",
            "        \n",
            "        m is a float and e is an int, such that x = m * 2.**e.\n",
            "        If x is 0, m and e are both 0.  Else 0.5 <= abs(m) < 1.0.\n",
            "    \n",
            "    fsum(seq, /)\n",
            "        Return an accurate floating point sum of values in the iterable seq.\n",
            "        \n",
            "        Assumes IEEE-754 floating point arithmetic.\n",
            "    \n",
            "    gamma(x, /)\n",
            "        Gamma function at x.\n",
            "    \n",
            "    gcd(*integers)\n",
            "        Greatest Common Divisor.\n",
            "    \n",
            "    hypot(...)\n",
            "        hypot(*coordinates) -> value\n",
            "        \n",
            "        Multidimensional Euclidean distance from the origin to a point.\n",
            "        \n",
            "        Roughly equivalent to:\n",
            "            sqrt(sum(x**2 for x in coordinates))\n",
            "        \n",
            "        For a two dimensional point (x, y), gives the hypotenuse\n",
            "        using the Pythagorean theorem:  sqrt(x*x + y*y).\n",
            "        \n",
            "        For example, the hypotenuse of a 3/4/5 right triangle is:\n",
            "        \n",
            "            >>> hypot(3.0, 4.0)\n",
            "            5.0\n",
            "    \n",
            "    isclose(a, b, *, rel_tol=1e-09, abs_tol=0.0)\n",
            "        Determine whether two floating point numbers are close in value.\n",
            "        \n",
            "          rel_tol\n",
            "            maximum difference for being considered \"close\", relative to the\n",
            "            magnitude of the input values\n",
            "          abs_tol\n",
            "            maximum difference for being considered \"close\", regardless of the\n",
            "            magnitude of the input values\n",
            "        \n",
            "        Return True if a is close in value to b, and False otherwise.\n",
            "        \n",
            "        For the values to be considered close, the difference between them\n",
            "        must be smaller than at least one of the tolerances.\n",
            "        \n",
            "        -inf, inf and NaN behave similarly to the IEEE 754 Standard.  That\n",
            "        is, NaN is not close to anything, even itself.  inf and -inf are\n",
            "        only close to themselves.\n",
            "    \n",
            "    isfinite(x, /)\n",
            "        Return True if x is neither an infinity nor a NaN, and False otherwise.\n",
            "    \n",
            "    isinf(x, /)\n",
            "        Return True if x is a positive or negative infinity, and False otherwise.\n",
            "    \n",
            "    isnan(x, /)\n",
            "        Return True if x is a NaN (not a number), and False otherwise.\n",
            "    \n",
            "    isqrt(n, /)\n",
            "        Return the integer part of the square root of the input.\n",
            "    \n",
            "    lcm(*integers)\n",
            "        Least Common Multiple.\n",
            "    \n",
            "    ldexp(x, i, /)\n",
            "        Return x * (2**i).\n",
            "        \n",
            "        This is essentially the inverse of frexp().\n",
            "    \n",
            "    lgamma(x, /)\n",
            "        Natural logarithm of absolute value of Gamma function at x.\n",
            "    \n",
            "    log(...)\n",
            "        log(x, [base=math.e])\n",
            "        Return the logarithm of x to the given base.\n",
            "        \n",
            "        If the base not specified, returns the natural logarithm (base e) of x.\n",
            "    \n",
            "    log10(x, /)\n",
            "        Return the base 10 logarithm of x.\n",
            "    \n",
            "    log1p(x, /)\n",
            "        Return the natural logarithm of 1+x (base e).\n",
            "        \n",
            "        The result is computed in a way which is accurate for x near zero.\n",
            "    \n",
            "    log2(x, /)\n",
            "        Return the base 2 logarithm of x.\n",
            "    \n",
            "    modf(x, /)\n",
            "        Return the fractional and integer parts of x.\n",
            "        \n",
            "        Both results carry the sign of x and are floats.\n",
            "    \n",
            "    nextafter(x, y, /)\n",
            "        Return the next floating-point value after x towards y.\n",
            "    \n",
            "    perm(n, k=None, /)\n",
            "        Number of ways to choose k items from n items without repetition and with order.\n",
            "        \n",
            "        Evaluates to n! / (n - k)! when k <= n and evaluates\n",
            "        to zero when k > n.\n",
            "        \n",
            "        If k is not specified or is None, then k defaults to n\n",
            "        and the function returns n!.\n",
            "        \n",
            "        Raises TypeError if either of the arguments are not integers.\n",
            "        Raises ValueError if either of the arguments are negative.\n",
            "    \n",
            "    pow(x, y, /)\n",
            "        Return x**y (x to the power of y).\n",
            "    \n",
            "    prod(iterable, /, *, start=1)\n",
            "        Calculate the product of all the elements in the input iterable.\n",
            "        \n",
            "        The default start value for the product is 1.\n",
            "        \n",
            "        When the iterable is empty, return the start value.  This function is\n",
            "        intended specifically for use with numeric values and may reject\n",
            "        non-numeric types.\n",
            "    \n",
            "    radians(x, /)\n",
            "        Convert angle x from degrees to radians.\n",
            "    \n",
            "    remainder(x, y, /)\n",
            "        Difference between x and the closest integer multiple of y.\n",
            "        \n",
            "        Return x - n*y where n*y is the closest integer multiple of y.\n",
            "        In the case where x is exactly halfway between two multiples of\n",
            "        y, the nearest even value of n is used. The result is always exact.\n",
            "    \n",
            "    sin(x, /)\n",
            "        Return the sine of x (measured in radians).\n",
            "    \n",
            "    sinh(x, /)\n",
            "        Return the hyperbolic sine of x.\n",
            "    \n",
            "    sqrt(x, /)\n",
            "        Return the square root of x.\n",
            "    \n",
            "    tan(x, /)\n",
            "        Return the tangent of x (measured in radians).\n",
            "    \n",
            "    tanh(x, /)\n",
            "        Return the hyperbolic tangent of x.\n",
            "    \n",
            "    trunc(x, /)\n",
            "        Truncates the Real x to the nearest Integral toward 0.\n",
            "        \n",
            "        Uses the __trunc__ magic method.\n",
            "    \n",
            "    ulp(x, /)\n",
            "        Return the value of the least significant bit of the float x.\n",
            "\n",
            "DATA\n",
            "    e = 2.718281828459045\n",
            "    inf = inf\n",
            "    nan = nan\n",
            "    pi = 3.141592653589793\n",
            "    tau = 6.283185307179586\n",
            "\n",
            "FILE\n",
            "    (built-in)\n",
            "\n",
            "\n"
          ]
        }
      ],
      "source": [
        "help(math)"
      ]
    },
    {
      "cell_type": "code",
      "execution_count": null,
      "metadata": {
        "id": "4Ij-WAGbatA6"
      },
      "outputs": [],
      "source": [
        "# from keywords in python\n",
        "'''it is keyword used to import functions but once import it you can call thm directly without the module name.\n",
        "\n",
        "syntax : from math import function\n",
        "\n",
        "for all function:\n",
        "  from math import*\n",
        "  gcd(4,6)           greatest common difference\n",
        "  2       '''\n",
        "\n",
        " '''x = 23\n",
        " print(x,y)\n",
        "  print(x,\",\",y)\n",
        "  print(x,y,sep,)'''\n",
        "\n"
      ]
    },
    {
      "cell_type": "code",
      "execution_count": null,
      "metadata": {
        "colab": {
          "base_uri": "https://localhost:8080/"
        },
        "id": "C46xKEOCdF0a",
        "outputId": "ba0fffa5-1af2-4423-f6dc-e6d7f19b1a9c"
      },
      "outputs": [
        {
          "name": "stdout",
          "output_type": "stream",
          "text": [
            "hello,akansha x=10 y=3.5\n",
            "hello,10 x=3.5 y=akansha\n",
            "hello,akansha x=20 y= 10\n"
          ]
        }
      ],
      "source": [
        "# replacement operator in python\n",
        "x = 10    #index 0\n",
        "y = 3.5    #index 1\n",
        "z = \"akansha\"    #index 2\n",
        "\n",
        "print(\"hello,{2} x={0} y={1}\".format(x,y,z))\n",
        "print(\"hello,{} x={} y={}\".format(x,y,z))\n",
        "print(\"hello,{z} x={y} y= {x}\".format(x=10,y=20,z=\"akansha\"))\n"
      ]
    },
    {
      "cell_type": "code",
      "execution_count": null,
      "metadata": {
        "colab": {
          "base_uri": "https://localhost:8080/"
        },
        "id": "z_NaEUBKeFLE",
        "outputId": "3c59c9d8-2a04-414a-cd5b-a2e2738c7da9"
      },
      "outputs": [
        {
          "name": "stdout",
          "output_type": "stream",
          "text": [
            "Enter a number: 89\n",
            "The number is odd.\n"
          ]
        }
      ],
      "source": [
        "# Even or Odd Number\n",
        "\n",
        "num = int(input(\"Enter a number: \"))\n",
        "\n",
        "# Check if the number is even or odd\n",
        "if num % 2 == 0:\n",
        "\n",
        "    print(\"The number is even.\")\n",
        "else:\n",
        "    print(\"The number is odd.\")"
      ]
    },
    {
      "cell_type": "code",
      "execution_count": null,
      "metadata": {
        "colab": {
          "base_uri": "https://localhost:8080/"
        },
        "id": "UkIoWM6wrNWA",
        "outputId": "4df9b36a-3d77-443c-9b9c-63bfa252b488"
      },
      "outputs": [
        {
          "name": "stdout",
          "output_type": "stream",
          "text": [
            "Enter a number: 78\n",
            "The number is even.\n"
          ]
        }
      ],
      "source": [
        "num = int(input(\"Enter a number: \"))\n",
        "\n",
        "# Check if the number is even or odd\n",
        "if num % 2 == 0:\n",
        "\n",
        "    print(\"The number is even.\")\n",
        "else:\n",
        "    print(\"The number is odd.\")"
      ]
    },
    {
      "cell_type": "markdown",
      "metadata": {
        "id": "JOruTGmDjFjR"
      },
      "source": [
        "statement (flow control in python)\n",
        "decision control statement (if,if else,if elif else)\n",
        "iterative statement (while,for)\n",
        "transfer statement (break,continue and pass)"
      ]
    },
    {
      "cell_type": "code",
      "execution_count": null,
      "metadata": {
        "colab": {
          "base_uri": "https://localhost:8080/"
        },
        "id": "NgsCaWIhEL6N",
        "outputId": "86920d8b-e8b1-4a8e-ca1b-9a4d97c46e6a"
      },
      "outputs": [
        {
          "name": "stdout",
          "output_type": "stream",
          "text": [
            "Enter first number: 7\n",
            "Enter second number: 8\n",
            "Enter your choice (1/2/3/4):3\n",
            "1. Addition\n",
            "2. Subtraction\n",
            "3. Multiplication\n",
            "4. Division\n",
            "Result: 56.0\n"
          ]
        }
      ],
      "source": [
        "# BASIC CALCULATOR PROGRAM\n",
        "\n",
        "num1 = float(input(\"Enter first number: \"))\n",
        "num2 = float(input(\"Enter second number: \"))\n",
        "choice = int(input(\"Enter your choice (1/2/3/4):\"))\n",
        "\n",
        "print(\"1. Addition\")\n",
        "print(\"2. Subtraction\")\n",
        "print(\"3. Multiplication\")\n",
        "print(\"4. Division\")\n",
        "\n",
        "\n",
        "if choice == 1:\n",
        "    result = num1 + num2\n",
        "    print(\"Result:\", result)\n",
        "else:\n",
        "    if choice == 2:\n",
        "        result = num1 - num2\n",
        "        print(\"Result:\", result)\n",
        "    else:\n",
        "        if choice == 3:\n",
        "            result = num1 * num2\n",
        "            print(\"Result:\", result)\n",
        "        else:\n",
        "            if choice == 4:\n",
        "                if num2 != 0:\n",
        "                    result = num1 / num2\n",
        "                    print(\"Result:\", result)\n",
        "                else:\n",
        "                    print(\"Error: Cannot divide by zero.\")\n",
        "            else:\n",
        "                print(\"Invalid choice.\")"
      ]
    },
    {
      "cell_type": "code",
      "execution_count": null,
      "metadata": {
        "colab": {
          "background_save": true,
          "base_uri": "https://localhost:8080/"
        },
        "id": "GTz8cmAM1N1R",
        "outputId": "059c0bd6-3ba2-4206-dbb4-63ac4777d9a8"
      },
      "outputs": [
        {
          "name": "stdout",
          "output_type": "stream",
          "text": [
            " Welcome to Kaun Banega Crorepati (KBC) \n",
            "We will ask you 4 questions. Each correct answer earns you ₹15,000.\n",
            "Let's start the game!\n",
            "\n",
            "QUESTION 1:\n",
            "Q1. What is the capital of India?\n",
            "A. Mumbai\n",
            "B. Delhi\n",
            "C. Kolkata\n",
            "D. Chennai\n"
          ]
        }
      ],
      "source": [
        "# KBC PROJECT\n",
        "print(\" Welcome to Kaun Banega Crorepati (KBC) \")\n",
        "print(\"We will ask you 4 questions. Each correct answer earns you ₹15,000.\")\n",
        "print(\"Let's start the game!\")\n",
        "\n",
        "# Initial total money\n",
        "money = 0\n",
        "\n",
        "# QUESTION 1\n",
        "print(\"\\nQUESTION 1:\")\n",
        "print(\"Q1. What is the capital of India?\")\n",
        "print(\"A. Mumbai\")\n",
        "print(\"B. Delhi\")\n",
        "print(\"C. Kolkata\")\n",
        "print(\"D. Chennai\")\n",
        "\n",
        "answer1 = input(\"Enter your answer (A/B/C/D): \")\n",
        "if answer1.upper() == \"B\": # Use .upper() to handle case-insensitive input\n",
        "    print(\" Correct!\")\n",
        "    money += 15000 # Use += to add to the money\n",
        "    # QUESTION 2 (only if Q1 is correct)\n",
        "    print(\"\\nQUESTION 2:\")\n",
        "    print(\"Q2. Who is known as the founder of Python?\")\n",
        "    print(\"A. Guido Van Rossum\")\n",
        "    print(\"B. Alan Turing\")\n",
        "    print(\"C. Dennis Ritchie\")\n",
        "    print(\"D. Steve Jobs\")\n",
        "\n",
        "    answer2 = input(\"Enter your answer (A/B/C/D): \")\n",
        "\n",
        "    if answer2.upper() == \"A\": # Use .upper() and correct the answer check\n",
        "        print(\" Correct!\")\n",
        "        money += 15000 # Add money for the second correct answer\n",
        "\n",
        "        # QUESTION 3 (Add more questions similarly)\n",
        "        # print(\"\\nQUESTION 3:\")\n",
        "        # ...\n",
        "\n",
        "        # QUESTION 4 (Add more questions similarly)\n",
        "        # print(\"\\nQUESTION 4:\")\n",
        "        # ...\n",
        "\n",
        "        # Final Result (This part will only be reached if all questions are answered correctly)\n",
        "        print(f\"\\n You won ₹{money} in total. Thanks for playing KBC!\")\n",
        "\n",
        "    else:\n",
        "        print(\" Wrong! The correct answer is A. Guido Van Rossum.\")\n",
        "        print(\"\\n\\tGame Over\") # Corrected message\n",
        "else:\n",
        "    print(\" Wrong! The correct answer is B. Delhi.\") # Added correct answer for Q1\n",
        "    print(\"\\n\\tGame Over\") # Corrected message"
      ]
    },
    {
      "cell_type": "code",
      "execution_count": null,
      "metadata": {
        "id": "aa_jlcxd16TL"
      },
      "outputs": [],
      "source": [
        "# Secret Castle Program\n",
        "print('Welcome to the game (A SECREAT CASTLE)')\n",
        "\n",
        "print(\"You must enter the secret code to open the castle door.\")\n",
        "print(\"Hint: The door only opens if the code is divisible by BOTH 3 and 5.\")\n",
        "\n",
        "# enter the code\n",
        "code = int(input(\"Enter the secret code: \"))\n",
        "\n",
        "# Check conditions\n",
        "if code % 3 == 0 and code % 5 == 0:\n",
        "    print(\" Access Granted! The door to the secret castle opens...\")\n",
        "elif code % 3 == 0:\n",
        "    print(\" You are close! The code is divisible by 3.\")\n",
        "elif code % 5 == 0:\n",
        "    print(\" You are close! The code is divisible by 5.\")\n",
        "else:\n",
        "    print(\" Access Denied! This is not the correct code.\")"
      ]
    },
    {
      "cell_type": "code",
      "execution_count": null,
      "metadata": {
        "colab": {
          "base_uri": "https://localhost:8080/"
        },
        "id": "X4gPbYFV1_wA",
        "outputId": "aa16fecc-f443-4a2e-c82a-7a3cab09694f"
      },
      "outputs": [
        {
          "name": "stdout",
          "output_type": "stream",
          "text": [
            "1\n",
            "2\n",
            "3\n",
            "4\n",
            "5\n"
          ]
        }
      ],
      "source": [
        "#program of using while loop\n",
        "x = 1\n",
        "while x <= 5:\n",
        "  print(x)\n",
        "  x+=1\n",
        "# Output 12345"
      ]
    },
    {
      "cell_type": "code",
      "execution_count": null,
      "metadata": {
        "colab": {
          "base_uri": "https://localhost:8080/"
        },
        "id": "H7UGtbDu2MKz",
        "outputId": "bdf7631b-aeac-460e-e8d1-0b2a70a03049"
      },
      "outputs": [
        {
          "name": "stdout",
          "output_type": "stream",
          "text": [
            "10\n",
            "9\n",
            "8\n",
            "7\n",
            "6\n",
            "5\n",
            "4\n",
            "3\n",
            "2\n",
            "1\n"
          ]
        }
      ],
      "source": [
        "#REVERSE NUMBER PROGRAM\n",
        "x = 10 # Start from 10\n",
        "while x >= 1: # x is greater than or eual to 1\n",
        "    print(x)\n",
        "    x -= 1 # Decrement x"
      ]
    },
    {
      "cell_type": "code",
      "execution_count": null,
      "metadata": {
        "colab": {
          "base_uri": "https://localhost:8080/"
        },
        "id": "SCeqBOhb2QNw",
        "outputId": "0f1f70c2-41a9-46a0-e417-e10d007b744c"
      },
      "outputs": [
        {
          "name": "stdout",
          "output_type": "stream",
          "text": [
            "enter a string Khushi\n",
            "count= 0\n"
          ]
        }
      ],
      "source": [
        "# PROGRAM TO DETECT NUMBER \"A\" IN A NAME USING FOR LOOP\n",
        "x = input(\"enter a string\")\n",
        "count = 0\n",
        "for i in x:\n",
        "  if i ==\"a\":\n",
        "   count +=1\n",
        "print (\"count=\",count)"
      ]
    },
    {
      "cell_type": "code",
      "execution_count": null,
      "metadata": {
        "id": "Y1K4lrWe49xZ"
      },
      "outputs": [],
      "source": [
        "#leap year program"
      ]
    },
    {
      "cell_type": "markdown",
      "metadata": {
        "id": "NU2LdF9P9WB6"
      },
      "source": [
        "range function that generates sequesnces ......\n",
        "range starts with 0..........\n",
        "note : syntax range(start,stop,step).........\n",
        "\n"
      ]
    },
    {
      "cell_type": "code",
      "execution_count": null,
      "metadata": {
        "colab": {
          "background_save": true
        },
        "id": "qtndtMys-MZE",
        "outputId": "67d19091-f591-4898-db34-a5191b166f68"
      },
      "outputs": [
        {
          "name": "stdout",
          "output_type": "stream",
          "text": [
            "5\n",
            "6\n",
            "7\n",
            "8\n",
            "9\n"
          ]
        }
      ],
      "source": [
        "for x in range(5,10) :\n",
        "  print(x)"
      ]
    },
    {
      "cell_type": "code",
      "execution_count": null,
      "metadata": {
        "id": "RYqj7NnY-2BK"
      },
      "outputs": [],
      "source": [
        "'''for x in range(10,5) :\n",
        "  print(x)'''"
      ]
    },
    {
      "cell_type": "code",
      "execution_count": null,
      "metadata": {
        "id": "uayBrsne_LdA"
      },
      "outputs": [],
      "source": [
        "for x in range(1,20,2):\n",
        "  print(x)"
      ]
    },
    {
      "cell_type": "code",
      "execution_count": null,
      "metadata": {
        "id": "UfgGjVoK-iFx"
      },
      "outputs": [],
      "source": [
        "# lists in python\n",
        "'''lists are very smimliar to aaray but in python the values czn be expandable whuch gives and emormous advantage to it while\n",
        "we can sstroe heterogeneous values as well\n",
        "they can contain any type of variable\n",
        "lists can also be iterted\n",
        "\n",
        "SYNTAX :\n",
        "l=[] // empty lists\n",
        " we generally use append function in order to append values in the list\n",
        " we can print in many ways which we will see in coming slides'''"
      ]
    },
    {
      "cell_type": "code",
      "source": [
        "l = []\n",
        "l.append(10)\n",
        "l.append(20)\n",
        "l.append(30)\n",
        "print(l)"
      ],
      "metadata": {
        "colab": {
          "base_uri": "https://localhost:8080/"
        },
        "id": "w0sGTNYGLV4k",
        "outputId": "d64b3720-6d94-4fdf-be39-bbf9b5e7dd21"
      },
      "execution_count": null,
      "outputs": [
        {
          "output_type": "stream",
          "name": "stdout",
          "text": [
            "[10, 20, 30]\n"
          ]
        }
      ]
    },
    {
      "cell_type": "code",
      "source": [
        "l = []\n",
        "l.append(10)\n",
        "l.append(20)\n",
        "l.append(30)\n",
        "print(l[0],l[1],l[2])\n",
        "for x in l:\n",
        "  print(x)"
      ],
      "metadata": {
        "colab": {
          "base_uri": "https://localhost:8080/"
        },
        "id": "d45J2S47LhVq",
        "outputId": "2fa058d3-e0b7-46f2-f826-dd6e0fe8db77"
      },
      "execution_count": null,
      "outputs": [
        {
          "output_type": "stream",
          "name": "stdout",
          "text": [
            "10 20 30\n",
            "10\n",
            "20\n",
            "30\n"
          ]
        }
      ]
    },
    {
      "cell_type": "code",
      "source": [
        "\n",
        "#List:deep diving\n",
        "'''lists can be empty collection of integrer values collects of string collection of heterogeneous values\n",
        "\n",
        "indexing of lists statrt from 0 jut like c\n",
        "ex: l=[10,20,30] 10 in 0th index, 20 is at 1th index, 30 is at 2nd Index\n",
        "if print(l[3]) it give give exception because list does not contain this character'''"
      ],
      "metadata": {
        "id": "ANuOJs0kL8SA"
      },
      "execution_count": null,
      "outputs": []
    },
    {
      "cell_type": "code",
      "source": [
        "a = [10, 20]\n",
        "a.insert(2, 30)     #kisi bhi particular value of insert kar sakte\n",
        "print(a)"
      ],
      "metadata": {
        "colab": {
          "base_uri": "https://localhost:8080/"
        },
        "id": "xYBWz3CPME-t",
        "outputId": "28a98683-ef5d-482b-eee2-29d0aa159290"
      },
      "execution_count": null,
      "outputs": [
        {
          "output_type": "stream",
          "name": "stdout",
          "text": [
            "[10, 20, 30]\n"
          ]
        }
      ]
    },
    {
      "cell_type": "code",
      "source": [
        "a = [10, 20]\n",
        "a.insert(1, 50)\n",
        "print(a)"
      ],
      "metadata": {
        "colab": {
          "base_uri": "https://localhost:8080/"
        },
        "id": "wngQ9lc3NlZj",
        "outputId": "fe5d94bc-95d2-40ff-93ff-4d1ad7cb8f11"
      },
      "execution_count": null,
      "outputs": [
        {
          "output_type": "stream",
          "name": "stdout",
          "text": [
            "[10, 50, 20]\n"
          ]
        }
      ]
    },
    {
      "cell_type": "code",
      "source": [
        "a = [10, 20]\n",
        "a.insert(-3,100)\n",
        "print(a)"
      ],
      "metadata": {
        "colab": {
          "base_uri": "https://localhost:8080/"
        },
        "id": "R-nWdbGpOdbC",
        "outputId": "f9b399a9-0af8-4c11-f2aa-2eeeed190b40"
      },
      "execution_count": null,
      "outputs": [
        {
          "output_type": "stream",
          "name": "stdout",
          "text": [
            "[100, 10, 20]\n"
          ]
        }
      ]
    },
    {
      "cell_type": "code",
      "source": [
        "'''we can use + operator in 2 lists that will append the data\n",
        "if we try to add scaar values to list then it will give error\n",
        "we can show the adding of scalar value that actually not append the lists\n",
        "we can use compound assignment operators(+=,-=,<=,>=) to show or add scalar value in list'''"
      ],
      "metadata": {
        "id": "ox4EveVrO4p5"
      },
      "execution_count": null,
      "outputs": []
    },
    {
      "cell_type": "code",
      "source": [
        "A = [1,2,3]\n",
        "B = [4,5,6]\n",
        "C = A+B\n",
        "print(C)"
      ],
      "metadata": {
        "colab": {
          "base_uri": "https://localhost:8080/"
        },
        "id": "PQVhDiUiQvrI",
        "outputId": "dcf31c11-1317-4977-88b7-d5c921fdbbd1"
      },
      "execution_count": null,
      "outputs": [
        {
          "output_type": "stream",
          "name": "stdout",
          "text": [
            "[1, 2, 3, 4, 5, 6]\n"
          ]
        }
      ]
    },
    {
      "cell_type": "code",
      "source": [
        "D= [1, 2, 3, 4, 5, 6]\n",
        "D+[10]\n"
      ],
      "metadata": {
        "colab": {
          "base_uri": "https://localhost:8080/"
        },
        "id": "1_5GQuF_REn_",
        "outputId": "4dae20c8-8397-414b-877a-e655b497293b"
      },
      "execution_count": null,
      "outputs": [
        {
          "output_type": "execute_result",
          "data": {
            "text/plain": [
              "[1, 2, 3, 4, 5, 6, 10]"
            ]
          },
          "metadata": {},
          "execution_count": 11
        }
      ]
    },
    {
      "cell_type": "code",
      "source": [
        "# USING + IN THE LISTS\n",
        "A = [1,2,3]\n",
        "B = [4,5,6]\n",
        "C =B+A\n",
        "print(C)"
      ],
      "metadata": {
        "colab": {
          "base_uri": "https://localhost:8080/"
        },
        "id": "37S5UxpoRR3c",
        "outputId": "6737aff8-8550-448a-dee4-6b7fcfe5e73d"
      },
      "execution_count": null,
      "outputs": [
        {
          "output_type": "stream",
          "name": "stdout",
          "text": [
            "[4, 5, 6, 1, 2, 3]\n"
          ]
        }
      ]
    },
    {
      "cell_type": "code",
      "source": [
        "A = [1,2,3]\n",
        "A += [10]          #we add two lists here and update the lists\n",
        "print(A)"
      ],
      "metadata": {
        "colab": {
          "base_uri": "https://localhost:8080/"
        },
        "id": "CnpGwNtSRWTp",
        "outputId": "fbc4a783-afdd-4809-97fe-1d888b8c77eb"
      },
      "execution_count": null,
      "outputs": [
        {
          "output_type": "stream",
          "name": "stdout",
          "text": [
            "[1, 2, 3, 10]\n"
          ]
        }
      ]
    },
    {
      "cell_type": "code",
      "source": [
        "#OUTPUT OF USING * IN LISTS\n",
        "D = [10,20]\n",
        "D *= 3\n",
        "print(D)"
      ],
      "metadata": {
        "colab": {
          "base_uri": "https://localhost:8080/"
        },
        "id": "wqxCduhSRpIB",
        "outputId": "86a925c6-41ed-49a0-d4b7-1a42f52df417"
      },
      "execution_count": null,
      "outputs": [
        {
          "output_type": "stream",
          "name": "stdout",
          "text": [
            "[10, 20, 10, 20, 10, 20]\n"
          ]
        }
      ]
    },
    {
      "cell_type": "code",
      "source": [
        "D = [10,20]\n",
        "D*3                   #list can't be update here but in D*=3 here lists can be update\n",
        "print(D)"
      ],
      "metadata": {
        "colab": {
          "base_uri": "https://localhost:8080/"
        },
        "id": "LWaZiQ_pSFcL",
        "outputId": "446a1303-598c-4326-fea4-f5952917191f"
      },
      "execution_count": null,
      "outputs": [
        {
          "output_type": "stream",
          "name": "stdout",
          "text": [
            "[10, 20]\n"
          ]
        }
      ]
    },
    {
      "cell_type": "code",
      "source": [
        "#HOW TO EDIT TH VALUES IN LISTS\n",
        "'''ex: Mylist=[10,20,30]\n",
        "Mylist[0] = 100 //0th index is there\n",
        "Output:[100,20,30]\n",
        "we are able\n",
        "\n",
        "#how to remove values\n",
        "ex: we use function remove() on mylist\n",
        "    mylist.remove(20)\n",
        "    Mylist\n",
        "    output'''"
      ],
      "metadata": {
        "id": "oAN9NSlOS5za"
      },
      "execution_count": null,
      "outputs": []
    },
    {
      "cell_type": "code",
      "source": [
        "D = [10,20]\n",
        "D*=3\n",
        "print(D)\n",
        "D.remove(20)\n",
        "print(D)"
      ],
      "metadata": {
        "colab": {
          "base_uri": "https://localhost:8080/"
        },
        "id": "njz49ad0UHtr",
        "outputId": "8fb5715e-ae02-4da9-e100-0451dd0ee66f"
      },
      "execution_count": null,
      "outputs": [
        {
          "output_type": "stream",
          "name": "stdout",
          "text": [
            "[10, 20, 10, 20, 10, 20]\n",
            "[10, 10, 20, 10, 20]\n"
          ]
        }
      ]
    },
    {
      "cell_type": "code",
      "source": [
        "A = [30,40,200,300,48]\n",
        "A.sort()\n",
        "print(A)"
      ],
      "metadata": {
        "colab": {
          "base_uri": "https://localhost:8080/"
        },
        "id": "DRrroDgrUlId",
        "outputId": "9367e093-3ef8-489f-babd-8b7a62b8c4e7"
      },
      "execution_count": null,
      "outputs": [
        {
          "output_type": "stream",
          "name": "stdout",
          "text": [
            "[30, 40, 48, 200, 300]\n"
          ]
        }
      ]
    },
    {
      "cell_type": "code",
      "source": [
        "G = [1,2,3,4,5]\n",
        "G.pop(3)\n",
        "print(G)                 #clear and remove\n"
      ],
      "metadata": {
        "colab": {
          "base_uri": "https://localhost:8080/"
        },
        "id": "w8Qj98I-VB14",
        "outputId": "d764918b-ba7b-410e-e6b3-05e19a9cd7d3"
      },
      "execution_count": null,
      "outputs": [
        {
          "output_type": "stream",
          "name": "stdout",
          "text": [
            "[1, 2, 3, 5]\n"
          ]
        }
      ]
    },
    {
      "cell_type": "code",
      "source": [
        "# remove values of remove kar raha h just hata raha tha values return nhi karr raha tha list\n",
        "#and pop index ki value ko delete kar deta h yeh return bhii kar deta h list"
      ],
      "metadata": {
        "id": "LLnhHFygVPYn"
      },
      "execution_count": null,
      "outputs": []
    },
    {
      "cell_type": "code",
      "source": [
        "'''index():\n",
        "to find out the index of particular value '''\n",
        "\n",
        "A = [10,20,30,40]\n",
        "A. index(30)\n"
      ],
      "metadata": {
        "colab": {
          "base_uri": "https://localhost:8080/"
        },
        "id": "0XBoKY7cV9k9",
        "outputId": "f96743b9-2437-4b55-c9c1-680525baf2c2"
      },
      "execution_count": null,
      "outputs": [
        {
          "output_type": "execute_result",
          "data": {
            "text/plain": [
              "2"
            ]
          },
          "metadata": {},
          "execution_count": 32
        }
      ]
    },
    {
      "cell_type": "code",
      "source": [
        "A =[10,20,30,40,10,20,30,10]\n",
        "A.index(10)"
      ],
      "metadata": {
        "colab": {
          "base_uri": "https://localhost:8080/"
        },
        "id": "jj5VY5CJW6Uo",
        "outputId": "c598754a-6426-4004-cd98-ec1f6cff54c3"
      },
      "execution_count": null,
      "outputs": [
        {
          "output_type": "execute_result",
          "data": {
            "text/plain": [
              "0"
            ]
          },
          "metadata": {},
          "execution_count": 33
        }
      ]
    },
    {
      "cell_type": "code",
      "source": [
        "A =[10,20,30,40,10,20,30,10]\n",
        "A.index(10,1)"
      ],
      "metadata": {
        "colab": {
          "base_uri": "https://localhost:8080/"
        },
        "id": "YXEDO3hqXTzM",
        "outputId": "f49cee52-1289-4bcc-ce01-0b670f17b4d9"
      },
      "execution_count": null,
      "outputs": [
        {
          "output_type": "execute_result",
          "data": {
            "text/plain": [
              "4"
            ]
          },
          "metadata": {},
          "execution_count": 34
        }
      ]
    },
    {
      "cell_type": "code",
      "source": [
        "A =[10,20,30,40,10,20,30,10]\n",
        "A.index(10,1,6)           #hum range define kar rhe h isme 1 to 6 me 10 kaa index"
      ],
      "metadata": {
        "colab": {
          "base_uri": "https://localhost:8080/"
        },
        "id": "vJ6oo6dlXZNZ",
        "outputId": "061ed702-a776-4edf-e889-442fab260230"
      },
      "execution_count": null,
      "outputs": [
        {
          "output_type": "execute_result",
          "data": {
            "text/plain": [
              "4"
            ]
          },
          "metadata": {},
          "execution_count": 35
        }
      ]
    },
    {
      "cell_type": "code",
      "source": [
        "#count(): it helps to find out the occurence of the number in the lists\n",
        "S = [10,20,30,40,10,20,30,10]\n",
        "S.count(10)"
      ],
      "metadata": {
        "colab": {
          "base_uri": "https://localhost:8080/"
        },
        "id": "zTJlTCuTX4fh",
        "outputId": "dd50fb80-117e-4306-b084-b4651cdf374e"
      },
      "execution_count": null,
      "outputs": [
        {
          "output_type": "execute_result",
          "data": {
            "text/plain": [
              "3"
            ]
          },
          "metadata": {},
          "execution_count": 36
        }
      ]
    },
    {
      "cell_type": "code",
      "source": [
        "# how you will find lists of all function use in python\n",
        "'''help(lists name)\n",
        "\n",
        "for example : help(list)'''"
      ],
      "metadata": {
        "id": "-YgPe7gGJrlr"
      },
      "execution_count": null,
      "outputs": []
    },
    {
      "cell_type": "code",
      "source": [
        "#FRUITS BASKET PROGRAM\n",
        "fruits = []\n",
        "\n",
        "f1 = input(\"Enter Fruit Name:\")\n",
        "fruits.append(f1)\n",
        "f2 = input(\"Enter Fruit Name:\")\n",
        "fruits.append(f2)\n",
        "f3 = input(\"Enter Fruit Name:\")\n",
        "fruits.append(f3)\n",
        "f4= input(\"Enter Fruit Name:\")\n",
        "fruits.append(f4)\n",
        "f5= input(\"Enter Fruit Name:\")\n",
        "fruits.append(f5)\n",
        "f6 = input(\"Enter Fruit Name:\")\n",
        "fruits.append(f6)\n",
        "f7 = input(\"Enter Fruit Name:\")\n",
        "fruits.append(f7)\n",
        "\n",
        "print(fruits)\n",
        "\n"
      ],
      "metadata": {
        "id": "z6ZvCqsNYfvR",
        "colab": {
          "base_uri": "https://localhost:8080/"
        },
        "outputId": "2f3f3f47-1f5e-4298-f51c-1ed9b5e994de"
      },
      "execution_count": null,
      "outputs": [
        {
          "output_type": "stream",
          "name": "stdout",
          "text": [
            "Enter Fruit Name:Apple\n",
            "Enter Fruit Name:Grapes\n",
            "Enter Fruit Name:Pineapple\n",
            "Enter Fruit Name:Papaya \n",
            "Enter Fruit Name:Lichi \n",
            "Enter Fruit Name:Orange \n",
            "Enter Fruit Name:Strawberry\n",
            "['Apple', 'Grapes', 'Pineapple', 'Papaya ', 'Lichi ', 'Orange ', 'Strawberry']\n"
          ]
        }
      ]
    },
    {
      "cell_type": "code",
      "source": [
        "A = ['Apple', 'Banana ', 'Grapes ', 'Pineapple', 'Lichi ', 'Strawberry', 'Papaya ']\n",
        "#A.sort()\n",
        "#A.remove('Grapes ')\n",
        "A.pop(5)\n",
        "print(A)"
      ],
      "metadata": {
        "colab": {
          "base_uri": "https://localhost:8080/"
        },
        "id": "X84uwL6VMuLv",
        "outputId": "716bc95d-4ca1-42b2-8b5f-ac803948f281"
      },
      "execution_count": null,
      "outputs": [
        {
          "output_type": "stream",
          "name": "stdout",
          "text": [
            "['Apple', 'Banana ', 'Grapes ', 'Pineapple', 'Lichi ', 'Papaya ']\n"
          ]
        }
      ]
    },
    {
      "cell_type": "code",
      "source": [
        "#Write a program to accept marks of 6 students and displsy them in a sorted manner\n",
        "\n",
        "marks = []\n",
        "S1 = input(\"Enter Marks:\")\n",
        "marks.append(S1)\n",
        "S2 = input(\"Enter Marks:\")\n",
        "marks.append(S2)\n",
        "S3 = input(\"Enter Marks:\")\n",
        "marks.append(S3)\n",
        "S4 = input(\"Enter Marks:\")\n",
        "marks.append(S4)\n",
        "S5 = input(\"Enter Marks:\")\n",
        "marks.append(S5)\n",
        "S6 = input(\"Enter Marks:\")\n",
        "marks.append(S6)\n",
        "print(marks)\n"
      ],
      "metadata": {
        "colab": {
          "base_uri": "https://localhost:8080/"
        },
        "id": "p0TwjT5qNvYs",
        "outputId": "cb586373-9959-4915-dd98-9a4322171833"
      },
      "execution_count": null,
      "outputs": [
        {
          "output_type": "stream",
          "name": "stdout",
          "text": [
            "Enter Marks:100\n",
            "Enter Marks:50\n",
            "Enter Marks:26\n",
            "Enter Marks:37\n",
            "Enter Marks:78\n",
            "Enter Marks:12\n",
            "['100', '50', '26', '37', '78', '12']\n"
          ]
        }
      ]
    },
    {
      "cell_type": "code",
      "source": [
        "marks = []\n",
        "S1 = input(\"Enter Marks:\")\n",
        "marks.append(S1)\n",
        "S2 = input(\"Enter Marks:\")\n",
        "marks.append(S2)\n",
        "S3 = input(\"Enter Marks:\")\n",
        "marks.append(S3)\n",
        "S4 = input(\"Enter Marks:\")\n",
        "marks.append(S4)\n",
        "S5 = input(\"Enter Marks:\")\n",
        "marks.append(S5)\n",
        "S6 = input(\"Enter Marks:\")\n",
        "marks.append(S6)\n",
        "\n",
        "marks.sort()\n",
        "print(marks)"
      ],
      "metadata": {
        "colab": {
          "base_uri": "https://localhost:8080/"
        },
        "id": "J-OVHm5nOpOd",
        "outputId": "910eeda6-9a40-422a-f12a-977fb9ed8b63"
      },
      "execution_count": null,
      "outputs": [
        {
          "output_type": "stream",
          "name": "stdout",
          "text": [
            "Enter Marks:100\n",
            "Enter Marks:25\n",
            "Enter Marks:50\n",
            "Enter Marks:70\n",
            "Enter Marks:12\n",
            "Enter Marks:56\n",
            "['100', '12', '25', '50', '56', '70']\n"
          ]
        }
      ]
    },
    {
      "cell_type": "code",
      "source": [
        "#Write a program to sum two list\n",
        "A = [10,30,60]\n",
        "B = [50,70,90]\n",
        "C = A+B\n",
        "print(C)"
      ],
      "metadata": {
        "colab": {
          "base_uri": "https://localhost:8080/"
        },
        "id": "YMQKobLWQh2i",
        "outputId": "f41f61d3-ef47-4cf9-8698-683d8871a3e5"
      },
      "execution_count": null,
      "outputs": [
        {
          "output_type": "stream",
          "name": "stdout",
          "text": [
            "[10, 30, 60, 50, 70, 90]\n"
          ]
        }
      ]
    },
    {
      "cell_type": "code",
      "source": [
        "# Write a program to sum a list with 4 number\n",
        "numbers = [10, 20, 30, 40]\n",
        "\n",
        "# Calculate the sum\n",
        "total = sum(numbers)\n",
        "\n",
        "# Print the result\n",
        "print(\"The sum of the list is:\", total)"
      ],
      "metadata": {
        "colab": {
          "base_uri": "https://localhost:8080/"
        },
        "id": "dgJNRaP1RHbw",
        "outputId": "16361889-9fb7-4fec-91f2-16096613019a"
      },
      "execution_count": null,
      "outputs": [
        {
          "output_type": "stream",
          "name": "stdout",
          "text": [
            "The sum of the list is: 100\n"
          ]
        }
      ]
    },
    {
      "cell_type": "code",
      "source": [
        "#Write a program  to count the number of zeroes in the following list\n",
        "A = [10,20,40,10,50,50,60,30,60,50]\n",
        "A.count(50)\n"
      ],
      "metadata": {
        "colab": {
          "base_uri": "https://localhost:8080/"
        },
        "id": "wRZEZf39SrDr",
        "outputId": "1f753cc8-65e6-4c7d-b112-2c2e93df5bf0"
      },
      "execution_count": null,
      "outputs": [
        {
          "output_type": "execute_result",
          "data": {
            "text/plain": [
              "3"
            ]
          },
          "metadata": {},
          "execution_count": 19
        }
      ]
    },
    {
      "cell_type": "code",
      "source": [
        "# prompt: #Check that a type cannot be changed in python\n",
        "\n",
        "# Python variables are dynamically typed, meaning the type of a variable can change during execution.\n",
        "# However, the *value* stored in a variable is of a specific type, and that value's type itself is immutable.\n",
        "# You cannot change the type of an existing value object, but you can reassign the variable to point to a\n",
        "# new value of a different type.\n",
        "\n",
        "x = 5  # x is an integer\n",
        "str(x)\n",
        "print(type(x))\n",
        "\n",
        "x = \"hello\"  # x is now a string\n",
        "print(type(x))\n",
        "\n",
        "# The original integer object `5` still exists, its type hasn't changed.\n",
        "# The variable `x` has simply been rebound to a different object of a different type.\n",
        "\n",
        "# This is different from some other languages where variables are statically typed,\n",
        "# meaning a variable is declared to hold a specific type of value and cannot hold\n",
        "# values of other types.\n"
      ],
      "metadata": {
        "id": "_kLYe2pQW9Mf",
        "colab": {
          "base_uri": "https://localhost:8080/"
        },
        "outputId": "1adb64d6-b29e-4354-d48a-4198ed9ba4f9"
      },
      "execution_count": null,
      "outputs": [
        {
          "output_type": "stream",
          "name": "stdout",
          "text": [
            "<class 'int'>\n",
            "<class 'str'>\n"
          ]
        }
      ]
    },
    {
      "cell_type": "code",
      "source": [
        "# Fruit Basket Program with List Methods\n",
        "\n",
        "# Initial Basket is Empty\n",
        "fruit_basket = []\n",
        "\n",
        "print(\" Welcome to the Fruit Basket Program \")\n",
        "print(\"Enter 4 fruits to add to your basket:\")\n",
        "\n",
        "# Add some fruits using user input\n",
        "for i in range(4):\n",
        "    fruit = input(f\"Enter fruit {i+1}: \")\n",
        "    fruit_basket.append(fruit)\n",
        "\n",
        "print(\"\\nCurrent fruit basket:\", fruit_basket)\n",
        "\n",
        "# Insert a fruit\n",
        "insert_fruit = input(\"Enter a fruit to insert: \")\n",
        "position = int(input(f\"Enter the position (0 to {len(fruit_basket)}): \"))\n",
        "fruit_basket.insert(position, insert_fruit)\n",
        "print(f\"\\nAfter inserting {insert_fruit} at position {position}:\", fruit_basket)\n",
        "\n",
        "# Remove a fruit\n",
        "remove_fruit = input(\"Enter the name of the fruit to remove: \")\n",
        "if remove_fruit in fruit_basket:\n",
        "    fruit_basket.remove(remove_fruit)\n",
        "    print(f\"\\nAfter removing {remove_fruit}:\", fruit_basket)\n",
        "else:\n",
        "    print(f\"\\n{remove_fruit} not found in the basket.\")\n",
        "\n",
        "# Sort the fruits alphabetically\n",
        "fruit_basket.sort()\n",
        "print(\"\\nSorted fruit basket:\", fruit_basket)\n",
        "\n",
        "# Reverse the list\n",
        "fruit_basket.reverse()\n",
        "print(\"\\nReversed fruit basket:\", fruit_basket)\n",
        "\n",
        "# Pop the last fruit\n",
        "if fruit_basket:\n",
        "    last_fruit = fruit_basket.pop()\n",
        "    print(f\"\\nRemoved last fruit: {last_fruit}\")\n",
        "    print(\"Basket after popping last fruit:\", fruit_basket)\n",
        "else:\n",
        "    print(\"\\nCannot pop from an empty basket.\")\n",
        "\n",
        "# Clear the basket\n",
        "fruit_basket.clear()\n",
        "print(\"\\nBasket after clearing all fruits:\", fruit_basket)"
      ],
      "metadata": {
        "colab": {
          "base_uri": "https://localhost:8080/"
        },
        "id": "_9xbUfDhTzrc",
        "outputId": "5492cb88-a040-4056-8683-d6e822b40d79"
      },
      "execution_count": null,
      "outputs": [
        {
          "output_type": "stream",
          "name": "stdout",
          "text": [
            " Welcome to the Fruit Basket Program \n",
            "Enter 4 fruits to add to your basket:\n",
            "Enter fruit 1: Apple\n",
            "Enter fruit 2: Pineapple\n",
            "Enter fruit 3: Chiku\n",
            "Enter fruit 4: Banana \n",
            "\n",
            "Current fruit basket: ['Apple', 'Pineapple', 'Chiku', 'Banana ']\n",
            "Enter a fruit to insert: Grapes\n",
            "Enter the position (0 to 4): 3\n",
            "\n",
            "After inserting Grapes at position 3: ['Apple', 'Pineapple', 'Chiku', 'Grapes', 'Banana ']\n",
            "Enter the name of the fruit to remove: Apple\n",
            "\n",
            "After removing Apple: ['Pineapple', 'Chiku', 'Grapes', 'Banana ']\n",
            "\n",
            "Sorted fruit basket: ['Banana ', 'Chiku', 'Grapes', 'Pineapple']\n",
            "\n",
            "Reversed fruit basket: ['Pineapple', 'Grapes', 'Chiku', 'Banana ']\n",
            "\n",
            "Removed last fruit: Banana \n",
            "Basket after popping last fruit: ['Pineapple', 'Grapes', 'Chiku']\n",
            "\n",
            "Basket after clearing all fruits: []\n"
          ]
        }
      ]
    },
    {
      "cell_type": "code",
      "source": [
        "'''strings are bit of text they can be defined as anything bettwen quotes\n",
        "how to print the following\n",
        "Don't touch it\n",
        "\"google.com\"\n",
        "\n",
        "Teacher's Day is \"My Day\"'''"
      ],
      "metadata": {
        "id": "rWJQiiVdaPs2"
      },
      "execution_count": null,
      "outputs": []
    },
    {
      "cell_type": "code",
      "source": [
        "S = \"Don't touch it\"\n",
        "print(S)"
      ],
      "metadata": {
        "colab": {
          "base_uri": "https://localhost:8080/"
        },
        "id": "HnLf0wJGaoDQ",
        "outputId": "284f1d18-f60f-402e-cf83-ebd8b263ee48"
      },
      "execution_count": null,
      "outputs": [
        {
          "output_type": "stream",
          "name": "stdout",
          "text": [
            "Don't touch it\n"
          ]
        }
      ]
    },
    {
      "cell_type": "code",
      "source": [
        "A = \"'google.com'\"\n",
        "print(A)"
      ],
      "metadata": {
        "colab": {
          "base_uri": "https://localhost:8080/"
        },
        "id": "yUY2p_GPa1eb",
        "outputId": "c40a842d-c58c-40cf-f3ad-e216b23fdb7f"
      },
      "execution_count": null,
      "outputs": [
        {
          "output_type": "stream",
          "name": "stdout",
          "text": [
            "'google.com'\n"
          ]
        }
      ]
    },
    {
      "cell_type": "code",
      "source": [
        "A = '\"My Day\"'\n",
        "print(A)\n"
      ],
      "metadata": {
        "colab": {
          "base_uri": "https://localhost:8080/"
        },
        "id": "0L5DHThZbAeG",
        "outputId": "89d90514-1722-41ae-cc12-60b11af7a40c"
      },
      "execution_count": null,
      "outputs": [
        {
          "output_type": "stream",
          "name": "stdout",
          "text": [
            "\"My Day\"\n"
          ]
        }
      ]
    },
    {
      "cell_type": "code",
      "source": [
        "#len(): it is used to find lenght of the string\n",
        "S1 = \"Akanksha is teaching DBMS and Python\"\n",
        "len(S1)"
      ],
      "metadata": {
        "colab": {
          "base_uri": "https://localhost:8080/"
        },
        "id": "v23CloAbbSf_",
        "outputId": "8085fc46-8b5b-49b9-a2c4-6d69c11aa2b1"
      },
      "execution_count": null,
      "outputs": [
        {
          "output_type": "execute_result",
          "data": {
            "text/plain": [
              "36"
            ]
          },
          "metadata": {},
          "execution_count": 6
        }
      ]
    },
    {
      "cell_type": "code",
      "source": [
        "\"Harry\".index('a')"
      ],
      "metadata": {
        "colab": {
          "base_uri": "https://localhost:8080/"
        },
        "id": "sFUK1rLFbyaP",
        "outputId": "f80212da-fd81-432e-8eb5-9b3d04226c84"
      },
      "execution_count": null,
      "outputs": [
        {
          "output_type": "execute_result",
          "data": {
            "text/plain": [
              "1"
            ]
          },
          "metadata": {},
          "execution_count": 11
        }
      ]
    },
    {
      "cell_type": "code",
      "source": [
        "'''Example : to extract DBMS from string by default the step value is +1\n",
        "Beginning value included but ending value excluded\n",
        "s1[19:23]\n",
        "here 19 index has '23' and 24 index has space'''"
      ],
      "metadata": {
        "id": "3r4D1xjJdZOe"
      },
      "execution_count": null,
      "outputs": []
    },
    {
      "cell_type": "code",
      "source": [
        "# Strings problem\n",
        "# PROBLEM 1\n",
        "name = \"khushi\"\n",
        "age = 18\n",
        "print(f\"My name is {name} and I am {age} years old\")\n",
        "\n",
        "name = input(\"Enter your name:\")\n",
        "\n",
        "print(f\"Good Afternoon , {name}\")"
      ],
      "metadata": {
        "colab": {
          "base_uri": "https://localhost:8080/"
        },
        "id": "-3N9cXDZTwt-",
        "outputId": "31dcc291-4f46-4ff2-8544-ea3e02be80ed"
      },
      "execution_count": null,
      "outputs": [
        {
          "output_type": "stream",
          "name": "stdout",
          "text": [
            "My name is khushi and I am 18 years old\n",
            "Enter your name:Khushi\n",
            "Good Afternoon , Khushi\n"
          ]
        }
      ]
    },
    {
      "cell_type": "code",
      "source": [
        "#PROBLEM 2\n",
        "letter = '''Dear <|Name|>,\n",
        "You are selected!\n",
        "<|Date|>'''\n",
        "\n",
        "print(letter.replace(\"<|Name|>\",\"Harry\").replace(\"<|Date|\",\"24 september 2050\"))"
      ],
      "metadata": {
        "colab": {
          "base_uri": "https://localhost:8080/"
        },
        "id": "4yp7qDb4UZkr",
        "outputId": "082eaa2d-4853-4d69-d427-b02c179bafd8"
      },
      "execution_count": null,
      "outputs": [
        {
          "output_type": "stream",
          "name": "stdout",
          "text": [
            "Dear Harry,\n",
            "You are selected!\n",
            "24 september 2050>\n"
          ]
        }
      ]
    },
    {
      "cell_type": "code",
      "source": [
        "#PROBLEM 3\n",
        "name = \"Harry is a good  boy and  \"\n",
        "\n",
        "print(name.find(\"\"))\n",
        "# result -1 aata h toh double spacing nhi h aagr nhi aata h kloi positive number aata h toh double spacing h\n",
        "# Find string is used to detect h double space in a string\n",
        "# replacd string is used to replace the double string into single string\n",
        "# string are immutable -- That's mean name string (actual string)woh change nhi hui h ek new string bani aur woh change hui h"
      ],
      "metadata": {
        "colab": {
          "base_uri": "https://localhost:8080/"
        },
        "id": "Ig5R7CqtUcav",
        "outputId": "a2d5dfcb-e2da-45f5-a625-5f00cbbf8863"
      },
      "execution_count": null,
      "outputs": [
        {
          "output_type": "stream",
          "name": "stdout",
          "text": [
            "0\n"
          ]
        }
      ]
    },
    {
      "cell_type": "code",
      "source": [
        "#PROBLEM 4\n",
        "letter = \"Dear Harry,\\n\\tThis python course is nice,\\nThanks!\"\n",
        "print(letter)"
      ],
      "metadata": {
        "colab": {
          "base_uri": "https://localhost:8080/"
        },
        "id": "aqYAxFgIUfnn",
        "outputId": "8e07f65b-8170-4166-d03d-d19cb76f536e"
      },
      "execution_count": null,
      "outputs": [
        {
          "output_type": "stream",
          "name": "stdout",
          "text": [
            "Dear Harry,\n",
            "\tThis python course is nice,\n",
            "Thanks!\n"
          ]
        }
      ]
    },
    {
      "cell_type": "code",
      "source": [
        "#TUPLE\n",
        "'''tuple is also a type of sequence we use parenthesis\n",
        "we can do changes in list not in tuple\n",
        "tuple are immutable\n",
        "#HOW TO CREATE TUPLE'''\n",
        "'''t = ()\n",
        "type() //show tuple\n",
        "but if you write\n",
        "\n",
        "t = (10) then it is an integer\n",
        "type(t)  // show integer\n",
        "\n",
        "how we can make tuple of single value\n",
        "t=(10,)\n",
        "type(t)    //comma is required'''\n"
      ],
      "metadata": {
        "id": "uwAVZb1HWbXx"
      },
      "execution_count": null,
      "outputs": []
    },
    {
      "cell_type": "code",
      "source": [
        "t=(10,)\n",
        "type(t)"
      ],
      "metadata": {
        "colab": {
          "base_uri": "https://localhost:8080/"
        },
        "id": "L3cZL1gEXbI6",
        "outputId": "c7d2791f-c787-446a-9ee4-6cf2c6edee89"
      },
      "execution_count": null,
      "outputs": [
        {
          "output_type": "execute_result",
          "data": {
            "text/plain": [
              "tuple"
            ]
          },
          "metadata": {},
          "execution_count": 5
        }
      ]
    },
    {
      "cell_type": "code",
      "source": [
        "l = [11,22,33,44]\n",
        "t = tuple(l)\n",
        "type(l)            #we can store list as a tuple also"
      ],
      "metadata": {
        "colab": {
          "base_uri": "https://localhost:8080/"
        },
        "id": "KX-WcuRCXhwR",
        "outputId": "3ea7f8e8-8e6f-49da-c35f-38386367e406"
      },
      "execution_count": null,
      "outputs": [
        {
          "output_type": "execute_result",
          "data": {
            "text/plain": [
              "list"
            ]
          },
          "metadata": {},
          "execution_count": 7
        }
      ]
    },
    {
      "cell_type": "code",
      "source": [
        "t = tuple(21,22,33)\n",
        "type(t)"
      ],
      "metadata": {
        "colab": {
          "base_uri": "https://localhost:8080/",
          "height": 158
        },
        "id": "lZ0HQBHPYABN",
        "outputId": "2daae058-dc3f-412d-d2fa-aff46f552342"
      },
      "execution_count": null,
      "outputs": [
        {
          "output_type": "error",
          "ename": "TypeError",
          "evalue": "tuple expected at most 1 argument, got 3",
          "traceback": [
            "\u001b[0;31m---------------------------------------------------------------------------\u001b[0m",
            "\u001b[0;31mTypeError\u001b[0m                                 Traceback (most recent call last)",
            "\u001b[0;32m/tmp/ipython-input-8-191320529.py\u001b[0m in \u001b[0;36m<cell line: 0>\u001b[0;34m()\u001b[0m\n\u001b[0;32m----> 1\u001b[0;31m \u001b[0mt\u001b[0m \u001b[0;34m=\u001b[0m \u001b[0mtuple\u001b[0m\u001b[0;34m(\u001b[0m\u001b[0;36m21\u001b[0m\u001b[0;34m,\u001b[0m\u001b[0;36m22\u001b[0m\u001b[0;34m,\u001b[0m\u001b[0;36m33\u001b[0m\u001b[0;34m)\u001b[0m\u001b[0;34m\u001b[0m\u001b[0;34m\u001b[0m\u001b[0m\n\u001b[0m\u001b[1;32m      2\u001b[0m \u001b[0mtype\u001b[0m\u001b[0;34m(\u001b[0m\u001b[0mt\u001b[0m\u001b[0;34m)\u001b[0m\u001b[0;34m\u001b[0m\u001b[0;34m\u001b[0m\u001b[0m\n",
            "\u001b[0;31mTypeError\u001b[0m: tuple expected at most 1 argument, got 3"
          ]
        }
      ]
    },
    {
      "cell_type": "code",
      "source": [
        "a = 1\n",
        "b=2\n",
        "c=3\n",
        "t=a,b,c\n",
        "print(t)\n",
        "\n",
        "type(t)\n"
      ],
      "metadata": {
        "colab": {
          "base_uri": "https://localhost:8080/"
        },
        "id": "Jpoib80lYYS9",
        "outputId": "bd6f8e2e-bccf-48a0-cdca-f8b26c8ade5a"
      },
      "execution_count": null,
      "outputs": [
        {
          "output_type": "stream",
          "name": "stdout",
          "text": [
            "(1, 2, 3)\n"
          ]
        },
        {
          "output_type": "execute_result",
          "data": {
            "text/plain": [
              "tuple"
            ]
          },
          "metadata": {},
          "execution_count": 9
        }
      ]
    },
    {
      "cell_type": "code",
      "source": [
        "t = (10,20,30)\n",
        "a,b,c            #how to discreate values"
      ],
      "metadata": {
        "id": "zBs9qfZmZ0AK"
      },
      "execution_count": null,
      "outputs": []
    },
    {
      "cell_type": "code",
      "source": [
        "A = 1,2,3\n",
        "B = 5,6,7\n",
        "C = print(A+B)"
      ],
      "metadata": {
        "colab": {
          "base_uri": "https://localhost:8080/"
        },
        "id": "dxza4P9JaL9-",
        "outputId": "63b57163-5059-4248-a5e3-967c40aae7b5"
      },
      "execution_count": null,
      "outputs": [
        {
          "output_type": "stream",
          "name": "stdout",
          "text": [
            "(1, 2, 3, 5, 6, 7)\n"
          ]
        }
      ]
    },
    {
      "cell_type": "code",
      "source": [
        "# tuple will not be change if repetition operator is access\n",
        "#but if you want to to change the update the tuple then you will"
      ],
      "metadata": {
        "id": "4mkqJuuJaY42"
      },
      "execution_count": null,
      "outputs": []
    },
    {
      "cell_type": "code",
      "source": [
        "'''a=1,2,3\n",
        "b=4,5,6\n",
        "a=b           # assignment operators right to left precedence h\n",
        "a==b  #true\n",
        "\n",
        "c=1,2,4\n",
        "a==c         #false\n",
        "\n",
        "A<C\n",
        "false because we take tuple in small a and b'''"
      ],
      "metadata": {
        "id": "0UDP7tTPa20r"
      },
      "execution_count": null,
      "outputs": []
    },
    {
      "cell_type": "code",
      "source": [
        "'''we can use 2 method for taking input as tuple\n",
        "1. tuple(input()): as input () will return string that will be converted itno tuple which will be stored in variable\n",
        "see in example that will consider ',' as a part of tuple'''\n",
        "\n",
        "#input hamesha string leti h"
      ],
      "metadata": {
        "id": "-Nn-ySThceeN"
      },
      "execution_count": null,
      "outputs": []
    },
    {
      "cell_type": "code",
      "source": [
        "a = tuple(input(\"Enter your name\"))\n",
        "print(a)"
      ],
      "metadata": {
        "colab": {
          "base_uri": "https://localhost:8080/"
        },
        "id": "OXIenshkeB63",
        "outputId": "41908c7e-01fa-4cf4-9a82-ed9735277912"
      },
      "execution_count": null,
      "outputs": [
        {
          "output_type": "stream",
          "name": "stdout",
          "text": [
            "Enter your name khushi\n",
            "(' ', 'k', 'h', 'u', 's', 'h', 'i')\n"
          ]
        }
      ]
    },
    {
      "cell_type": "code",
      "source": [
        "#eval\n",
        "eval(\"5+2\")\n"
      ],
      "metadata": {
        "colab": {
          "base_uri": "https://localhost:8080/"
        },
        "id": "_IINLH-zfk4P",
        "outputId": "0d3f56fa-313b-4f5f-f2e1-e0178c701ed6"
      },
      "execution_count": null,
      "outputs": [
        {
          "output_type": "execute_result",
          "data": {
            "text/plain": [
              "7"
            ]
          },
          "metadata": {},
          "execution_count": 27
        }
      ]
    },
    {
      "cell_type": "code",
      "source": [
        "x = eval(input(\"enter a tuple\"))\n",
        "print(x)                            # eval jo bhi input me lete ho woh expression ki tarah treat karta h and jaha bhi eval loge waha expression bhi calsulate kar sakte ho\n",
        "\n",
        "type(x)"
      ],
      "metadata": {
        "colab": {
          "base_uri": "https://localhost:8080/"
        },
        "id": "li4e7V0qfmRm",
        "outputId": "eb1dfe2c-ddd6-4331-85d3-5d1becf3e92b"
      },
      "execution_count": null,
      "outputs": [
        {
          "output_type": "stream",
          "name": "stdout",
          "text": [
            "enter a tuple 1,2,3\n",
            "(1, 2, 3)\n"
          ]
        },
        {
          "output_type": "execute_result",
          "data": {
            "text/plain": [
              "tuple"
            ]
          },
          "metadata": {},
          "execution_count": 31
        }
      ]
    },
    {
      "cell_type": "code",
      "source": [
        "t = (1, 2, 3, 5, 6, 7,8,9,10)      #sum of tuple\n",
        "sum(t)"
      ],
      "metadata": {
        "colab": {
          "base_uri": "https://localhost:8080/"
        },
        "id": "r8aZVIKNgVyo",
        "outputId": "da70d409-be6f-4ecb-b2cc-39094955d3d4"
      },
      "execution_count": null,
      "outputs": [
        {
          "output_type": "execute_result",
          "data": {
            "text/plain": [
              "51"
            ]
          },
          "metadata": {},
          "execution_count": 32
        }
      ]
    },
    {
      "cell_type": "code",
      "source": [
        "t = (1, 2, 3, 5, 6, 7,8,9,10)\n",
        "len(t)                             #length of tuple    syntax: length(variable)"
      ],
      "metadata": {
        "colab": {
          "base_uri": "https://localhost:8080/"
        },
        "id": "0Zqsefb4g-jq",
        "outputId": "6a51b4e7-03c3-4294-9aa5-cc9dd43b43ba"
      },
      "execution_count": null,
      "outputs": [
        {
          "output_type": "execute_result",
          "data": {
            "text/plain": [
              "9"
            ]
          },
          "metadata": {},
          "execution_count": 33
        }
      ]
    },
    {
      "cell_type": "code",
      "source": [
        "a = (1,2,1,3,1,4,1,5,6,7)\n",
        "a.count(1)                   #count the element in tuple      syntax: variable.count(element)"
      ],
      "metadata": {
        "colab": {
          "base_uri": "https://localhost:8080/"
        },
        "id": "gJ_S4UpehXnK",
        "outputId": "1fb66cf5-fb17-4186-d615-cd572b17d7df"
      },
      "execution_count": null,
      "outputs": [
        {
          "output_type": "execute_result",
          "data": {
            "text/plain": [
              "4"
            ]
          },
          "metadata": {},
          "execution_count": 37
        }
      ]
    },
    {
      "cell_type": "code",
      "source": [
        "a = (1,2,1,3,1,4,1,5,6,7)\n",
        "a.index(4)                   #indexing in tuple           syntax: variable.index(element)"
      ],
      "metadata": {
        "colab": {
          "base_uri": "https://localhost:8080/"
        },
        "id": "EoPyVQMhh5Uv",
        "outputId": "8094b47a-ec67-40e7-e784-92f302c723b8"
      },
      "execution_count": null,
      "outputs": [
        {
          "output_type": "execute_result",
          "data": {
            "text/plain": [
              "5"
            ]
          },
          "metadata": {},
          "execution_count": 38
        }
      ]
    },
    {
      "cell_type": "code",
      "source": [
        "a = (1,2,1,3,1,4,1,5,6,7)\n",
        "max(a)                     #maximum value in a particular tuple    #syntax: max(variable)"
      ],
      "metadata": {
        "colab": {
          "base_uri": "https://localhost:8080/"
        },
        "id": "fRkufIkKiQb9",
        "outputId": "2c9cbad6-944d-48d4-a570-9eefb597c9ea"
      },
      "execution_count": null,
      "outputs": [
        {
          "output_type": "execute_result",
          "data": {
            "text/plain": [
              "7"
            ]
          },
          "metadata": {},
          "execution_count": 39
        }
      ]
    },
    {
      "cell_type": "code",
      "source": [
        "a = (2,6,7,8,10,100,50)\n",
        "min(a)                           #minimun value in a particular tuple   #syntax: min(variable)"
      ],
      "metadata": {
        "colab": {
          "base_uri": "https://localhost:8080/"
        },
        "id": "1KFFzCkNirsY",
        "outputId": "709e6d98-fade-4f02-ad7f-8b79ebbbc601"
      },
      "execution_count": null,
      "outputs": [
        {
          "output_type": "execute_result",
          "data": {
            "text/plain": [
              "2"
            ]
          },
          "metadata": {},
          "execution_count": 40
        }
      ]
    },
    {
      "cell_type": "code",
      "source": [
        "A = [10,100,200,500,60]\n",
        "min(A)"
      ],
      "metadata": {
        "colab": {
          "base_uri": "https://localhost:8080/"
        },
        "id": "oi_RdU28i149",
        "outputId": "3fdc0fff-fc18-4f86-d501-1a9788d0a208"
      },
      "execution_count": null,
      "outputs": [
        {
          "output_type": "execute_result",
          "data": {
            "text/plain": [
              "10"
            ]
          },
          "metadata": {},
          "execution_count": 41
        }
      ]
    },
    {
      "cell_type": "code",
      "source": [
        "A = [10,100,200,500,60]\n",
        "max(A)"
      ],
      "metadata": {
        "colab": {
          "base_uri": "https://localhost:8080/"
        },
        "id": "FGt_xOG2kCBL",
        "outputId": "a6a9d1d2-970b-46a6-aac1-73d28124a592"
      },
      "execution_count": null,
      "outputs": [
        {
          "output_type": "execute_result",
          "data": {
            "text/plain": [
              "500"
            ]
          },
          "metadata": {},
          "execution_count": 42
        }
      ]
    },
    {
      "cell_type": "code",
      "source": [
        "A = [100,500,1000,]\n",
        "B = [600,700,300]\n",
        "max(A+B)"
      ],
      "metadata": {
        "colab": {
          "base_uri": "https://localhost:8080/"
        },
        "id": "ssNwDCRzkT02",
        "outputId": "49d0f758-dbe9-4e26-8c36-072c52700605"
      },
      "execution_count": null,
      "outputs": [
        {
          "output_type": "execute_result",
          "data": {
            "text/plain": [
              "1000"
            ]
          },
          "metadata": {},
          "execution_count": 43
        }
      ]
    },
    {
      "cell_type": "code",
      "source": [
        "A = [100,500,1000,]\n",
        "B = [600,700,300]\n",
        "min(A+B)"
      ],
      "metadata": {
        "colab": {
          "base_uri": "https://localhost:8080/"
        },
        "id": "rRtcDmKAkfPZ",
        "outputId": "c91e470e-a02a-46b0-9c94-2bd5ea172418"
      },
      "execution_count": null,
      "outputs": [
        {
          "output_type": "execute_result",
          "data": {
            "text/plain": [
              "100"
            ]
          },
          "metadata": {},
          "execution_count": 44
        }
      ]
    },
    {
      "cell_type": "code",
      "source": [],
      "metadata": {
        "id": "tOcRi6oak0sR"
      },
      "execution_count": null,
      "outputs": []
    }
  ],
  "metadata": {
    "colab": {
      "provenance": [],
      "authorship_tag": "ABX9TyM0+XZDdGaJ9c0BIJcfFozW",
      "include_colab_link": true
    },
    "kernelspec": {
      "display_name": "Python 3",
      "name": "python3"
    },
    "language_info": {
      "name": "python"
    }
  },
  "nbformat": 4,
  "nbformat_minor": 0
}