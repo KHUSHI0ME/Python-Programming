{
  "cells": [
    {
      "cell_type": "markdown",
      "metadata": {
        "id": "view-in-github",
        "colab_type": "text"
      },
      "source": [
        "<a href=\"https://colab.research.google.com/github/KHUSHI0ME/Python-Programming/blob/main/PY_Training.ipynb\" target=\"_parent\"><img src=\"https://colab.research.google.com/assets/colab-badge.svg\" alt=\"Open In Colab\"/></a>"
      ]
    },
    {
      "cell_type": "code",
      "execution_count": null,
      "metadata": {
        "colab": {
          "base_uri": "https://localhost:8080/"
        },
        "id": "tqx-HiBaFm-L",
        "outputId": "ebf7d6c6-005c-4a4b-deff-7ba243bb038a"
      },
      "outputs": [
        {
          "output_type": "execute_result",
          "data": {
            "text/plain": [
              "7"
            ]
          },
          "metadata": {},
          "execution_count": 15
        }
      ],
      "source": [
        "3+4"
      ]
    },
    {
      "cell_type": "code",
      "execution_count": null,
      "metadata": {
        "colab": {
          "base_uri": "https://localhost:8080/"
        },
        "id": "Sa57yzs-F4cL",
        "outputId": "16b99ea2-17e6-45c7-bb05-41a8092547cb"
      },
      "outputs": [
        {
          "output_type": "stream",
          "name": "stdout",
          "text": [
            "Hello World\n"
          ]
        }
      ],
      "source": [
        "print(\"Hello World\")"
      ]
    },
    {
      "cell_type": "code",
      "execution_count": null,
      "metadata": {
        "id": "OMkYU0oDGGwv"
      },
      "outputs": [],
      "source": [
        "input(\"what is your name\")  #this is my first python program"
      ]
    },
    {
      "cell_type": "code",
      "execution_count": null,
      "metadata": {
        "id": "B2YgchnEJb2y"
      },
      "outputs": [],
      "source": [
        "a=input(\"enter your name\")\n",
        "print(\"my Name is:\" ,a)"
      ]
    },
    {
      "cell_type": "code",
      "execution_count": null,
      "metadata": {
        "id": "4RYS80ypLrKH"
      },
      "outputs": [],
      "source": [
        "x=5\n",
        "y= \"hello\"\n",
        "print(x)\n",
        "type(x)"
      ]
    },
    {
      "cell_type": "code",
      "execution_count": null,
      "metadata": {
        "id": "pFgujhwFMIiE"
      },
      "outputs": [],
      "source": [
        "x=\"1234\"\n",
        "y=5        #not same datatype\n",
        "x+y\n"
      ]
    },
    {
      "cell_type": "code",
      "execution_count": null,
      "metadata": {
        "id": "dWALN2LDMtHb"
      },
      "outputs": [],
      "source": [
        "x=\"123\"\n",
        "y=5\n",
        "int(x)+y      #convert itno string datatype"
      ]
    },
    {
      "cell_type": "code",
      "execution_count": null,
      "metadata": {
        "id": "x11B9cARNNgP"
      },
      "outputs": [],
      "source": [
        "x=3\n",
        "y=x\n",
        "print(id(x))   #id pata chalti h\n",
        "  #id same aaayegi"
      ]
    },
    {
      "cell_type": "code",
      "execution_count": null,
      "metadata": {
        "id": "lZBLw3O-PO8Z"
      },
      "outputs": [],
      "source": [
        "x=3\n",
        "y=x\n",
        "\n",
        "print(id(y))"
      ]
    },
    {
      "cell_type": "code",
      "execution_count": null,
      "metadata": {
        "id": "xIb_zbdnPYia"
      },
      "outputs": [],
      "source": [
        "y=2\n",
        "x=3\n",
        "\n",
        "print(id(y))"
      ]
    },
    {
      "cell_type": "code",
      "execution_count": null,
      "metadata": {
        "id": "1FPCRNi2QGz8"
      },
      "outputs": [],
      "source": [
        "import keyword\n",
        "print(keyword.kwlist)"
      ]
    },
    {
      "cell_type": "code",
      "execution_count": null,
      "metadata": {
        "id": "sELMVJgNTcyE"
      },
      "outputs": [],
      "source": [
        "x=5\n",
        "y=3+4j\n",
        "int(x)+complex(y)        #j se complex store huya hua h\n"
      ]
    },
    {
      "cell_type": "code",
      "execution_count": null,
      "metadata": {
        "id": "raajHy_MVLi8"
      },
      "outputs": [],
      "source": [
        "x=0b101\n",
        "print(bin(x))\n",
        "type (x)          #binary ka type pata karn eke liye bin use karte h"
      ]
    },
    {
      "cell_type": "code",
      "execution_count": null,
      "metadata": {
        "id": "nTMxydGpYHUy"
      },
      "outputs": [],
      "source": [
        "4**2,3"
      ]
    },
    {
      "cell_type": "code",
      "execution_count": null,
      "metadata": {
        "id": "mBN0Nn1faYHU"
      },
      "outputs": [],
      "source": [
        "20**40"
      ]
    },
    {
      "cell_type": "code",
      "execution_count": null,
      "metadata": {
        "id": "aUiiNULsa_-G"
      },
      "outputs": [],
      "source": [
        "+ and * had a dual meaning + for concentration in string"
      ]
    },
    {
      "cell_type": "markdown",
      "metadata": {
        "id": "Cc_HoydHayeK"
      },
      "source": []
    },
    {
      "cell_type": "code",
      "execution_count": null,
      "metadata": {
        "id": "umIQGnK-a185"
      },
      "outputs": [],
      "source": [
        "\"ab\"*3"
      ]
    },
    {
      "cell_type": "markdown",
      "metadata": {
        "id": "opnFARW1bPx5"
      },
      "source": [
        "In * we write \"ab\"*3 so behavior will be repetition"
      ]
    },
    {
      "cell_type": "code",
      "execution_count": null,
      "metadata": {
        "id": "ATRX7ZBtboMK"
      },
      "outputs": [],
      "source": [
        "3 and x=4"
      ]
    },
    {
      "cell_type": "code",
      "execution_count": null,
      "metadata": {
        "id": "isS3HDEwcFZF"
      },
      "outputs": [],
      "source": [
        "3 and 4>2"
      ]
    },
    {
      "cell_type": "code",
      "execution_count": null,
      "metadata": {
        "id": "NGJaxXrydQKR"
      },
      "outputs": [],
      "source": [
        "a=5\n",
        "b=10\n",
        "print(\"a=\",a)\n",
        "print(\"b=\",b)\n",
        "print(\"addition:\",a + b)\n",
        "print(\"subtration:\",a-b)\n",
        "print(multiplication)\n",
        "\n"
      ]
    },
    {
      "cell_type": "code",
      "execution_count": null,
      "metadata": {
        "id": "eQDAyRSZhBZZ"
      },
      "outputs": [],
      "source": [
        "a=5\n",
        "b=10\n",
        "print(\"subtraction:\",a - b)"
      ]
    },
    {
      "cell_type": "code",
      "execution_count": null,
      "metadata": {
        "id": "yuHyJ0aaOyOf"
      },
      "outputs": [],
      "source": [
        "5&6"
      ]
    },
    {
      "cell_type": "markdown",
      "metadata": {
        "id": "rCWmX4sGTLkr"
      },
      "source": []
    },
    {
      "cell_type": "markdown",
      "metadata": {
        "id": "wRYsxNR6TLp5"
      },
      "source": [
        "ese operator jaha bit me value ho unhe bitwaise operator kehte h"
      ]
    },
    {
      "cell_type": "code",
      "execution_count": null,
      "metadata": {
        "id": "qceIvXLlTWYL"
      },
      "outputs": [],
      "source": [
        "#type function\n",
        "\n",
        "a = int(input(\"Enter number 1:\"))\n",
        "\n",
        "b = int(input(\"Enter number 2:\"))\n",
        "\n",
        "print(\"Number a is:\",a)\n",
        "print(\"Number b is:\", b)\n",
        "print(\"Sum is\", int(a)+int(b))\n"
      ]
    },
    {
      "cell_type": "code",
      "execution_count": null,
      "metadata": {
        "id": "c528nn_JUyZM"
      },
      "outputs": [],
      "source": [
        "# Assignment operators\n",
        "a = 4-2 #Assign 4-2 in a\n",
        "print (a)\n",
        "b = 6\n",
        "b += 3 #INCREMENT in the value of b and then assign value of b to it\n",
        "print(b)"
      ]
    },
    {
      "cell_type": "code",
      "execution_count": null,
      "metadata": {
        "id": "e7q-rbnvVLOn"
      },
      "outputs": [],
      "source": [
        "#multipication assignment operator\n",
        "d = 5\n",
        "d*=6+6\n",
        "print(d)"
      ]
    },
    {
      "cell_type": "markdown",
      "metadata": {
        "id": "2vX5QIFDVlow"
      },
      "source": [
        "firstly 6+6 hoga and then d se multiply hoga"
      ]
    },
    {
      "cell_type": "code",
      "execution_count": null,
      "metadata": {
        "id": "9aZG56MAVhXQ"
      },
      "outputs": [],
      "source": [
        "a = 4-2 #Assign 4-2 in a\n",
        "print (a)\n",
        "b = 6\n",
        "b -= 3 # DECREMENT in the value of b and then assign value of b to it\n",
        "print(b)"
      ]
    },
    {
      "cell_type": "markdown",
      "metadata": {
        "id": "J-nuV5oiWE4T"
      },
      "source": [
        "iteration value bar baar repeat karne ke liye"
      ]
    },
    {
      "cell_type": "code",
      "execution_count": null,
      "metadata": {
        "id": "wn6Rrj3qVjoH"
      },
      "outputs": [],
      "source": [
        "#division assignment operator\n",
        "s = 65\n",
        "s%=7*6\n",
        "print(s)\n"
      ]
    },
    {
      "cell_type": "code",
      "execution_count": null,
      "metadata": {
        "id": "fLGQYpbqYIJ6"
      },
      "outputs": [],
      "source": [
        "#AREA OF TRIANGLE PROGRAM\n",
        "\n",
        "base = float(input(\"Enter the base of the triangle: \"))\n",
        "height = float(input(\"Enter the height of the triangle: \"))\n",
        "\n",
        "# Calculate area by the formula : (1/2) * base * height\n",
        "area = 0.5 * base * height\n",
        "\n",
        "\n",
        "print(\"The area of the triangle is:\", area)"
      ]
    },
    {
      "cell_type": "code",
      "execution_count": null,
      "metadata": {
        "id": "iOlsnSsPAEso"
      },
      "outputs": [],
      "source": [
        "# Input from user\n",
        "num1 = float(input(\"Enter first number: \"))\n",
        "num2 = float(input(\"Enter second number: \"))\n",
        "operator = input(\"Enter operation (+, -, *, /): \")\n",
        "\n",
        "# Dictionary to perform operations\n",
        "result = {\n",
        "    '+': num1 + num2,\n",
        "    '-': num1 - num2,\n",
        "    '*': num1 * num2,\n",
        "    '/': num1 / num2 if num2 != 0 else \"Cannot divide by zero\"\n",
        "}.get(operator, \"Invalid operator\")\n",
        "\n",
        "# Output the result\n",
        "print(\"Result:\", result)"
      ]
    },
    {
      "cell_type": "code",
      "execution_count": null,
      "metadata": {
        "id": "7Hkp7kUhJNI6"
      },
      "outputs": [],
      "source": [
        "a = 65\n",
        "b = 78\n",
        "print(a+b)"
      ]
    },
    {
      "cell_type": "markdown",
      "metadata": {
        "id": "pT1YxevcKOwY"
      },
      "source": [
        "problem : Problem: Write a program to add two numbers and display the result"
      ]
    },
    {
      "cell_type": "code",
      "execution_count": null,
      "metadata": {
        "id": "aXvf8aPRKWgK"
      },
      "outputs": [],
      "source": [
        "# CALCULATE AREA OF CIRCLE\n",
        "pi = 3.14\n",
        "radius = float(input (\"Enter the radius of the circle : \"))\n",
        "# Calculate the area by using the formula\n",
        "\n",
        "area = pi * radius * radius\n",
        "print(\"area of circle\", area)\n"
      ]
    },
    {
      "cell_type": "code",
      "execution_count": null,
      "metadata": {
        "id": "nDWUxWNYL89I"
      },
      "outputs": [],
      "source": [
        "# CALCULATE SIMPLE INTEREST\n",
        "P = 50\n",
        "R = 80\n",
        "T = 30\n",
        "# Calculate by using the formula\n",
        "SI = (P * R * T) / 100\n",
        "print(\"Simple Interest\", SI)\n"
      ]
    },
    {
      "cell_type": "markdown",
      "metadata": {
        "id": "Kjd3bMiJYDv5"
      },
      "source": [
        "# use of import,as,form\n",
        "module is the python file consisiting of python code\n",
        "module can define functions,classes,and variables\n",
        "jo keywords phle se hi define h aur hume use karn ah toh hum use import karwa sakte h\n",
        "Math.py file that consist of function which we can use.\n",
        " () = yeh function define karta h ki yeh words function h\n",
        "\n"
      ]
    },
    {
      "cell_type": "code",
      "execution_count": null,
      "metadata": {
        "id": "yzpIs0iMZkC4"
      },
      "outputs": [],
      "source": [
        "import math\n",
        "math.factorial(5)"
      ]
    },
    {
      "cell_type": "code",
      "execution_count": null,
      "metadata": {
        "id": "gLKEX6j9Z9yJ"
      },
      "outputs": [],
      "source": [
        "import math\n",
        "math.sqrt(25)\n"
      ]
    },
    {
      "cell_type": "code",
      "execution_count": null,
      "metadata": {
        "id": "bBFsKUDGaR6p"
      },
      "outputs": [],
      "source": [
        "help(math)"
      ]
    },
    {
      "cell_type": "code",
      "execution_count": null,
      "metadata": {
        "id": "4Ij-WAGbatA6"
      },
      "outputs": [],
      "source": [
        "# from keywords in python\n",
        "'''it is keyword used to import functions but once import it you can call thm directly without the module name.\n",
        "\n",
        "syntax : from math import function\n",
        "\n",
        "for all function:\n",
        "  from math import*\n",
        "  gcd(4,6)           greatest common difference\n",
        "  2       '''\n",
        "\n",
        " '''x = 23\n",
        " print(x,y)\n",
        "  print(x,\",\",y)\n",
        "  print(x,y,sep,)'''\n",
        "\n"
      ]
    },
    {
      "cell_type": "code",
      "execution_count": null,
      "metadata": {
        "id": "C46xKEOCdF0a"
      },
      "outputs": [],
      "source": [
        "# replacement operator in python\n",
        "x = 10    #index 0\n",
        "y = 3.5    #index 1\n",
        "z = \"akansha\"    #index 2\n",
        "\n",
        "print(\"hello,{2} x={0} y={1}\".format(x,y,z))\n",
        "print(\"hello,{} x={} y={}\".format(x,y,z))\n",
        "print(\"hello,{z} x={y} y= {x}\".format(x=10,y=20,z=\"akansha\"))\n"
      ]
    },
    {
      "cell_type": "code",
      "execution_count": null,
      "metadata": {
        "id": "z_NaEUBKeFLE"
      },
      "outputs": [],
      "source": [
        "# Even or Odd Number\n",
        "\n",
        "num = int(input(\"Enter a number: \"))\n",
        "\n",
        "# Check if the number is even or odd\n",
        "if num % 2 == 0:\n",
        "\n",
        "    print(\"The number is even.\")\n",
        "else:\n",
        "    print(\"The number is odd.\")"
      ]
    },
    {
      "cell_type": "code",
      "execution_count": null,
      "metadata": {
        "id": "UkIoWM6wrNWA"
      },
      "outputs": [],
      "source": [
        "num = int(input(\"Enter a number: \"))\n",
        "\n",
        "# Check if the number is even or odd\n",
        "if num % 2 == 0:\n",
        "\n",
        "    print(\"The number is even.\")\n",
        "else:\n",
        "    print(\"The number is odd.\")"
      ]
    },
    {
      "cell_type": "markdown",
      "metadata": {
        "id": "JOruTGmDjFjR"
      },
      "source": [
        "statement (flow control in python)\n",
        "decision control statement (if,if else,if elif else)\n",
        "iterative statement (while,for)\n",
        "transfer statement (break,continue and pass)"
      ]
    },
    {
      "cell_type": "code",
      "execution_count": null,
      "metadata": {
        "id": "NgsCaWIhEL6N"
      },
      "outputs": [],
      "source": [
        "# BASIC CALCULATOR PROGRAM\n",
        "\n",
        "num1 = float(input(\"Enter first number: \"))\n",
        "num2 = float(input(\"Enter second number: \"))\n",
        "choice = int(input(\"Enter your choice (1/2/3/4):\"))\n",
        "\n",
        "print(\"1. Addition\")\n",
        "print(\"2. Subtraction\")\n",
        "print(\"3. Multiplication\")\n",
        "print(\"4. Division\")\n",
        "\n",
        "\n",
        "if choice == 1:\n",
        "    result = num1 + num2\n",
        "    print(\"Result:\", result)\n",
        "else:\n",
        "    if choice == 2:\n",
        "        result = num1 - num2\n",
        "        print(\"Result:\", result)\n",
        "    else:\n",
        "        if choice == 3:\n",
        "            result = num1 * num2\n",
        "            print(\"Result:\", result)\n",
        "        else:\n",
        "            if choice == 4:\n",
        "                if num2 != 0:\n",
        "                    result = num1 / num2\n",
        "                    print(\"Result:\", result)\n",
        "                else:\n",
        "                    print(\"Error: Cannot divide by zero.\")\n",
        "            else:\n",
        "                print(\"Invalid choice.\")"
      ]
    },
    {
      "cell_type": "code",
      "execution_count": null,
      "metadata": {
        "colab": {
          "background_save": true
        },
        "id": "GTz8cmAM1N1R"
      },
      "outputs": [],
      "source": [
        "# KBC PROJECT\n",
        "print(\" Welcome to Kaun Banega Crorepati (KBC) \")\n",
        "print(\"We will ask you 4 questions. Each correct answer earns you ₹15,000.\")\n",
        "print(\"Let's start the game!\")\n",
        "\n",
        "# Initial total money\n",
        "money = 0\n",
        "\n",
        "# QUESTION 1\n",
        "print(\"\\nQUESTION 1:\")\n",
        "print(\"Q1. What is the capital of India?\")\n",
        "print(\"A. Mumbai\")\n",
        "print(\"B. Delhi\")\n",
        "print(\"C. Kolkata\")\n",
        "print(\"D. Chennai\")\n",
        "\n",
        "answer1 = input(\"Enter your answer (A/B/C/D): \")\n",
        "if answer1.upper() == \"B\": # Use .upper() to handle case-insensitive input\n",
        "    print(\" Correct!\")\n",
        "    money += 15000 # Use += to add to the money\n",
        "    # QUESTION 2 (only if Q1 is correct)\n",
        "    print(\"\\nQUESTION 2:\")\n",
        "    print(\"Q2. Who is known as the founder of Python?\")\n",
        "    print(\"A. Guido Van Rossum\")\n",
        "    print(\"B. Alan Turing\")\n",
        "    print(\"C. Dennis Ritchie\")\n",
        "    print(\"D. Steve Jobs\")\n",
        "\n",
        "    answer2 = input(\"Enter your answer (A/B/C/D): \")\n",
        "\n",
        "    if answer2.upper() == \"A\": # Use .upper() and correct the answer check\n",
        "        print(\" Correct!\")\n",
        "        money += 15000 # Add money for the second correct answer\n",
        "\n",
        "        # QUESTION 3 (Add more questions similarly)\n",
        "        # print(\"\\nQUESTION 3:\")\n",
        "        # ...\n",
        "\n",
        "        # QUESTION 4 (Add more questions similarly)\n",
        "        # print(\"\\nQUESTION 4:\")\n",
        "        # ...\n",
        "\n",
        "        # Final Result (This part will only be reached if all questions are answered correctly)\n",
        "        print(f\"\\n You won ₹{money} in total. Thanks for playing KBC!\")\n",
        "\n",
        "    else:\n",
        "        print(\" Wrong! The correct answer is A. Guido Van Rossum.\")\n",
        "        print(\"\\n\\tGame Over\") # Corrected message\n",
        "else:\n",
        "    print(\" Wrong! The correct answer is B. Delhi.\") # Added correct answer for Q1\n",
        "    print(\"\\n\\tGame Over\") # Corrected message"
      ]
    },
    {
      "cell_type": "code",
      "execution_count": null,
      "metadata": {
        "id": "aa_jlcxd16TL"
      },
      "outputs": [],
      "source": [
        "# Secret Castle Program\n",
        "print('Welcome to the game (A SECREAT CASTLE)')\n",
        "\n",
        "print(\"You must enter the secret code to open the castle door.\")\n",
        "print(\"Hint: The door only opens if the code is divisible by BOTH 3 and 5.\")\n",
        "\n",
        "# enter the code\n",
        "code = int(input(\"Enter the secret code: \"))\n",
        "\n",
        "# Check conditions\n",
        "if code % 3 == 0 and code % 5 == 0:\n",
        "    print(\" Access Granted! The door to the secret castle opens...\")\n",
        "elif code % 3 == 0:\n",
        "    print(\" You are close! The code is divisible by 3.\")\n",
        "elif code % 5 == 0:\n",
        "    print(\" You are close! The code is divisible by 5.\")\n",
        "else:\n",
        "    print(\" Access Denied! This is not the correct code.\")"
      ]
    },
    {
      "cell_type": "code",
      "execution_count": null,
      "metadata": {
        "id": "X4gPbYFV1_wA"
      },
      "outputs": [],
      "source": [
        "#program of using while loop\n",
        "x = 1\n",
        "while x <= 5:\n",
        "  print(x)\n",
        "  x+=1\n",
        "# Output 12345"
      ]
    },
    {
      "cell_type": "code",
      "execution_count": null,
      "metadata": {
        "id": "H7UGtbDu2MKz"
      },
      "outputs": [],
      "source": [
        "#REVERSE NUMBER PROGRAM\n",
        "x = 10 # Start from 10\n",
        "while x >= 1: # x is greater than or eual to 1\n",
        "    print(x)\n",
        "    x -= 1 # Decrement x"
      ]
    },
    {
      "cell_type": "code",
      "execution_count": null,
      "metadata": {
        "id": "SCeqBOhb2QNw"
      },
      "outputs": [],
      "source": [
        "# PROGRAM TO DETECT NUMBER \"A\" IN A NAME USING FOR LOOP\n",
        "x = input(\"enter a string\")\n",
        "count = 0\n",
        "for i in x:\n",
        "  if i ==\"a\":\n",
        "   count +=1\n",
        "print (\"count=\",count)"
      ]
    },
    {
      "cell_type": "code",
      "execution_count": null,
      "metadata": {
        "id": "Y1K4lrWe49xZ"
      },
      "outputs": [],
      "source": [
        "#leap year program"
      ]
    },
    {
      "cell_type": "markdown",
      "metadata": {
        "id": "NU2LdF9P9WB6"
      },
      "source": [
        "range function that generates sequesnces ......\n",
        "range starts with 0..........\n",
        "note : syntax range(start,stop,step).........\n",
        "\n"
      ]
    },
    {
      "cell_type": "code",
      "execution_count": null,
      "metadata": {
        "colab": {
          "background_save": true
        },
        "id": "qtndtMys-MZE"
      },
      "outputs": [],
      "source": [
        "for x in range(5,10) :\n",
        "  print(x)"
      ]
    },
    {
      "cell_type": "code",
      "execution_count": null,
      "metadata": {
        "id": "RYqj7NnY-2BK"
      },
      "outputs": [],
      "source": [
        "'''for x in range(10,5) :\n",
        "  print(x)'''"
      ]
    },
    {
      "cell_type": "code",
      "execution_count": null,
      "metadata": {
        "id": "uayBrsne_LdA"
      },
      "outputs": [],
      "source": [
        "for x in range(1,20,2):\n",
        "  print(x)"
      ]
    },
    {
      "cell_type": "code",
      "execution_count": null,
      "metadata": {
        "id": "UfgGjVoK-iFx"
      },
      "outputs": [],
      "source": [
        "# lists(datatypes) in python\n",
        "'''lists are very smimliar to aaray but in python the values czn be expandable whuch gives and emormous advantage to it while\n",
        "we can sstroe heterogeneous values as well\n",
        "they can contain any type of variable\n",
        "lists can also be iterted\n",
        "\n",
        "SYNTAX :\n",
        "l=[] // empty lists\n",
        " we generally use append function in order to append values in the list\n",
        " we can print in many ways which we will see in coming slides'''"
      ]
    },
    {
      "cell_type": "code",
      "source": [
        "l = []\n",
        "l.append(10)\n",
        "l.append(20)\n",
        "l.append(30)\n",
        "print(l)"
      ],
      "metadata": {
        "id": "w0sGTNYGLV4k"
      },
      "execution_count": null,
      "outputs": []
    },
    {
      "cell_type": "code",
      "source": [
        "l = []\n",
        "l.append(10)\n",
        "l.append(20)\n",
        "l.append(30)\n",
        "print(l[0],l[1],l[2])\n",
        "for x in l:\n",
        "  print(x)"
      ],
      "metadata": {
        "id": "d45J2S47LhVq"
      },
      "execution_count": null,
      "outputs": []
    },
    {
      "cell_type": "code",
      "source": [
        "\n",
        "#List:deep diving\n",
        "'''lists can be empty collection of integrer values collects of string collection of heterogeneous values\n",
        "\n",
        "indexing of lists statrt from 0 jut like c\n",
        "ex: l=[10,20,30] 10 in 0th index, 20 is at 1th index, 30 is at 2nd Index\n",
        "if print(l[3]) it give give exception because list does not contain this character'''"
      ],
      "metadata": {
        "id": "ANuOJs0kL8SA"
      },
      "execution_count": null,
      "outputs": []
    },
    {
      "cell_type": "code",
      "source": [
        "a = [10, 20]\n",
        "a.insert(2, 30)     #kisi bhi particular value of insert kar sakte\n",
        "print(a)"
      ],
      "metadata": {
        "id": "xYBWz3CPME-t"
      },
      "execution_count": null,
      "outputs": []
    },
    {
      "cell_type": "code",
      "source": [
        "a = [10, 20]\n",
        "a.insert(1, 50)\n",
        "print(a)"
      ],
      "metadata": {
        "id": "wngQ9lc3NlZj"
      },
      "execution_count": null,
      "outputs": []
    },
    {
      "cell_type": "code",
      "source": [
        "a = [10, 20]\n",
        "a.insert(-3,100)\n",
        "print(a)"
      ],
      "metadata": {
        "id": "R-nWdbGpOdbC"
      },
      "execution_count": null,
      "outputs": []
    },
    {
      "cell_type": "code",
      "source": [
        "'''we can use + operator in 2 lists that will append the data\n",
        "if we try to add scaar values to list then it will give error\n",
        "we can show the adding of scalar value that actually not append the lists\n",
        "we can use compound assignment operators(+=,-=,<=,>=) to show or add scalar value in list'''"
      ],
      "metadata": {
        "id": "ox4EveVrO4p5"
      },
      "execution_count": null,
      "outputs": []
    },
    {
      "cell_type": "code",
      "source": [
        "A = [1,2,3]\n",
        "B = [4,5,6]\n",
        "C = A+B\n",
        "print(C)"
      ],
      "metadata": {
        "id": "PQVhDiUiQvrI"
      },
      "execution_count": null,
      "outputs": []
    },
    {
      "cell_type": "code",
      "source": [
        "D= [1, 2, 3, 4, 5, 6]\n",
        "D+[10]\n"
      ],
      "metadata": {
        "id": "1_5GQuF_REn_"
      },
      "execution_count": null,
      "outputs": []
    },
    {
      "cell_type": "code",
      "source": [
        "# USING + IN THE LISTS\n",
        "A = [1,2,3]\n",
        "B = [4,5,6]\n",
        "C =B+A\n",
        "print(C)"
      ],
      "metadata": {
        "id": "37S5UxpoRR3c"
      },
      "execution_count": null,
      "outputs": []
    },
    {
      "cell_type": "code",
      "source": [
        "A = [1,2,3]\n",
        "A += [10]          #we add two lists here and update the lists\n",
        "print(A)"
      ],
      "metadata": {
        "id": "CnpGwNtSRWTp"
      },
      "execution_count": null,
      "outputs": []
    },
    {
      "cell_type": "code",
      "source": [
        "#OUTPUT OF USING * IN LISTS\n",
        "D = [10,20]\n",
        "D *= 3\n",
        "print(D)"
      ],
      "metadata": {
        "id": "wqxCduhSRpIB"
      },
      "execution_count": null,
      "outputs": []
    },
    {
      "cell_type": "code",
      "source": [
        "D = [10,20]\n",
        "D*3                   #list can't be update here but in D*=3 here lists can be update\n",
        "print(D)"
      ],
      "metadata": {
        "id": "LWaZiQ_pSFcL"
      },
      "execution_count": null,
      "outputs": []
    },
    {
      "cell_type": "code",
      "source": [
        "#HOW TO EDIT TH VALUES IN LISTS\n",
        "'''ex: Mylist=[10,20,30]\n",
        "Mylist[0] = 100 //0th index is there\n",
        "Output:[100,20,30]\n",
        "we are able\n",
        "\n",
        "#how to remove values\n",
        "ex: we use function remove() on mylist\n",
        "    mylist.remove(20)\n",
        "    Mylist\n",
        "    output'''"
      ],
      "metadata": {
        "id": "oAN9NSlOS5za"
      },
      "execution_count": null,
      "outputs": []
    },
    {
      "cell_type": "code",
      "source": [
        "D = [10,20]\n",
        "D*=3\n",
        "print(D)\n",
        "D.remove(20)\n",
        "print(D)"
      ],
      "metadata": {
        "id": "njz49ad0UHtr"
      },
      "execution_count": null,
      "outputs": []
    },
    {
      "cell_type": "code",
      "source": [
        "A = [30,40,200,300,48]\n",
        "A.sort()\n",
        "print(A)"
      ],
      "metadata": {
        "id": "DRrroDgrUlId"
      },
      "execution_count": null,
      "outputs": []
    },
    {
      "cell_type": "code",
      "source": [
        "G = [1,2,3,4,5]\n",
        "G.pop(3)\n",
        "print(G)                 #clear and remove\n"
      ],
      "metadata": {
        "id": "w8Qj98I-VB14"
      },
      "execution_count": null,
      "outputs": []
    },
    {
      "cell_type": "code",
      "source": [
        "# remove values of remove kar raha h just hata raha tha values return nhi karr raha tha list\n",
        "#and pop index ki value ko delete kar deta h yeh return bhii kar deta h list"
      ],
      "metadata": {
        "id": "LLnhHFygVPYn"
      },
      "execution_count": null,
      "outputs": []
    },
    {
      "cell_type": "code",
      "source": [
        "'''index():\n",
        "to find out the index of particular value '''\n",
        "\n",
        "A = [10,20,30,40]\n",
        "A. index(30)\n"
      ],
      "metadata": {
        "id": "0XBoKY7cV9k9"
      },
      "execution_count": null,
      "outputs": []
    },
    {
      "cell_type": "code",
      "source": [
        "A =[10,20,30,40,10,20,30,10]\n",
        "A.index(10)"
      ],
      "metadata": {
        "id": "jj5VY5CJW6Uo"
      },
      "execution_count": null,
      "outputs": []
    },
    {
      "cell_type": "code",
      "source": [
        "A =[10,20,30,40,10,20,30,10]\n",
        "A.index(10,1)"
      ],
      "metadata": {
        "id": "YXEDO3hqXTzM"
      },
      "execution_count": null,
      "outputs": []
    },
    {
      "cell_type": "code",
      "source": [
        "A =[10,20,30,40,10,20,30,10]\n",
        "A.index(10,1,6)           #hum range define kar rhe h isme 1 to 6 me 10 kaa index"
      ],
      "metadata": {
        "id": "vJ6oo6dlXZNZ"
      },
      "execution_count": null,
      "outputs": []
    },
    {
      "cell_type": "code",
      "source": [
        "#count(): it helps to find out the occurence of the number in the lists\n",
        "S = [10,20,30,40,10,20,30,10]\n",
        "S.count(10)"
      ],
      "metadata": {
        "id": "zTJlTCuTX4fh"
      },
      "execution_count": null,
      "outputs": []
    },
    {
      "cell_type": "code",
      "source": [
        "# how you will find lists of all function use in python\n",
        "'''help(lists name)\n",
        "\n",
        "for example : help(list)'''"
      ],
      "metadata": {
        "id": "-YgPe7gGJrlr"
      },
      "execution_count": null,
      "outputs": []
    },
    {
      "cell_type": "code",
      "source": [
        "#FRUITS BASKET PROGRAM\n",
        "fruits = []\n",
        "\n",
        "f1 = input(\"Enter Fruit Name:\")\n",
        "fruits.append(f1)\n",
        "f2 = input(\"Enter Fruit Name:\")\n",
        "fruits.append(f2)\n",
        "f3 = input(\"Enter Fruit Name:\")\n",
        "fruits.append(f3)\n",
        "f4= input(\"Enter Fruit Name:\")\n",
        "fruits.append(f4)\n",
        "f5= input(\"Enter Fruit Name:\")\n",
        "fruits.append(f5)\n",
        "f6 = input(\"Enter Fruit Name:\")\n",
        "fruits.append(f6)\n",
        "f7 = input(\"Enter Fruit Name:\")\n",
        "fruits.append(f7)\n",
        "\n",
        "print(fruits)\n",
        "\n"
      ],
      "metadata": {
        "id": "z6ZvCqsNYfvR"
      },
      "execution_count": null,
      "outputs": []
    },
    {
      "cell_type": "code",
      "source": [
        "A = ['Apple', 'Banana ', 'Grapes ', 'Pineapple', 'Lichi ', 'Strawberry', 'Papaya ']\n",
        "#A.sort()\n",
        "#A.remove('Grapes ')\n",
        "A.pop(5)\n",
        "print(A)"
      ],
      "metadata": {
        "id": "X84uwL6VMuLv"
      },
      "execution_count": null,
      "outputs": []
    },
    {
      "cell_type": "code",
      "source": [
        "#Write a program to accept marks of 6 students and displsy them in a sorted manner\n",
        "\n",
        "marks = []\n",
        "S1 = input(\"Enter Marks:\")\n",
        "marks.append(S1)\n",
        "S2 = input(\"Enter Marks:\")\n",
        "marks.append(S2)\n",
        "S3 = input(\"Enter Marks:\")\n",
        "marks.append(S3)\n",
        "S4 = input(\"Enter Marks:\")\n",
        "marks.append(S4)\n",
        "S5 = input(\"Enter Marks:\")\n",
        "marks.append(S5)\n",
        "S6 = input(\"Enter Marks:\")\n",
        "marks.append(S6)\n",
        "print(marks)\n"
      ],
      "metadata": {
        "id": "p0TwjT5qNvYs"
      },
      "execution_count": null,
      "outputs": []
    },
    {
      "cell_type": "code",
      "source": [
        "marks = []\n",
        "S1 = input(\"Enter Marks:\")\n",
        "marks.append(S1)\n",
        "S2 = input(\"Enter Marks:\")\n",
        "marks.append(S2)\n",
        "S3 = input(\"Enter Marks:\")\n",
        "marks.append(S3)\n",
        "S4 = input(\"Enter Marks:\")\n",
        "marks.append(S4)\n",
        "S5 = input(\"Enter Marks:\")\n",
        "marks.append(S5)\n",
        "S6 = input(\"Enter Marks:\")\n",
        "marks.append(S6)\n",
        "\n",
        "marks.sort()\n",
        "print(marks)"
      ],
      "metadata": {
        "id": "J-OVHm5nOpOd"
      },
      "execution_count": null,
      "outputs": []
    },
    {
      "cell_type": "code",
      "source": [
        "#Write a program to sum two list\n",
        "A = [10,30,60]\n",
        "B = [50,70,90]\n",
        "C = A+B\n",
        "print(C)"
      ],
      "metadata": {
        "id": "YMQKobLWQh2i"
      },
      "execution_count": null,
      "outputs": []
    },
    {
      "cell_type": "code",
      "source": [
        "# Write a program to sum a list with 4 number\n",
        "numbers = [10, 20, 30, 40]\n",
        "\n",
        "# Calculate the sum\n",
        "total = sum(numbers)\n",
        "\n",
        "# Print the result\n",
        "print(\"The sum of the list is:\", total)"
      ],
      "metadata": {
        "id": "dgJNRaP1RHbw"
      },
      "execution_count": null,
      "outputs": []
    },
    {
      "cell_type": "code",
      "source": [
        "#Write a program  to count the number of zeroes in the following list\n",
        "A = [10,20,40,10,50,50,60,30,60,50]\n",
        "A.count(50)\n"
      ],
      "metadata": {
        "id": "wRZEZf39SrDr"
      },
      "execution_count": null,
      "outputs": []
    },
    {
      "cell_type": "code",
      "source": [
        "# prompt: #Check that a type cannot be changed in python\n",
        "\n",
        "# Python variables are dynamically typed, meaning the type of a variable can change during execution.\n",
        "# However, the *value* stored in a variable is of a specific type, and that value's type itself is immutable.\n",
        "# You cannot change the type of an existing value object, but you can reassign the variable to point to a\n",
        "# new value of a different type.\n",
        "\n",
        "x = 5  # x is an integer\n",
        "str(x)\n",
        "print(type(x))\n",
        "\n",
        "x = \"hello\"  # x is now a string\n",
        "print(type(x))\n",
        "\n",
        "# The original integer object `5` still exists, its type hasn't changed.\n",
        "# The variable `x` has simply been rebound to a different object of a different type.\n",
        "\n",
        "# This is different from some other languages where variables are statically typed,\n",
        "# meaning a variable is declared to hold a specific type of value and cannot hold\n",
        "# values of other types.\n"
      ],
      "metadata": {
        "id": "_kLYe2pQW9Mf"
      },
      "execution_count": null,
      "outputs": []
    },
    {
      "cell_type": "code",
      "source": [
        "# Fruit Basket Program with List Methods\n",
        "\n",
        "# Initial Basket is Empty\n",
        "fruit_basket = []\n",
        "\n",
        "print(\" Welcome to the Fruit Basket Program \")\n",
        "print(\"Enter 4 fruits to add to your basket:\")\n",
        "\n",
        "# Add some fruits using user input\n",
        "for i in range(4):\n",
        "    fruit = input(f\"Enter fruit {i+1}: \")\n",
        "    fruit_basket.append(fruit)\n",
        "\n",
        "print(\"\\nCurrent fruit basket:\", fruit_basket)\n",
        "\n",
        "# Insert a fruit\n",
        "insert_fruit = input(\"Enter a fruit to insert: \")\n",
        "position = int(input(f\"Enter the position (0 to {len(fruit_basket)}): \"))\n",
        "fruit_basket.insert(position, insert_fruit)\n",
        "print(f\"\\nAfter inserting {insert_fruit} at position {position}:\", fruit_basket)\n",
        "\n",
        "# Remove a fruit\n",
        "remove_fruit = input(\"Enter the name of the fruit to remove: \")\n",
        "if remove_fruit in fruit_basket:\n",
        "    fruit_basket.remove(remove_fruit)\n",
        "    print(f\"\\nAfter removing {remove_fruit}:\", fruit_basket)\n",
        "else:\n",
        "    print(f\"\\n{remove_fruit} not found in the basket.\")\n",
        "\n",
        "# Sort the fruits alphabetically\n",
        "fruit_basket.sort()\n",
        "print(\"\\nSorted fruit basket:\", fruit_basket)\n",
        "\n",
        "# Reverse the list\n",
        "fruit_basket.reverse()\n",
        "print(\"\\nReversed fruit basket:\", fruit_basket)\n",
        "\n",
        "# Pop the last fruit\n",
        "if fruit_basket:\n",
        "    last_fruit = fruit_basket.pop()\n",
        "    print(f\"\\nRemoved last fruit: {last_fruit}\")\n",
        "    print(\"Basket after popping last fruit:\", fruit_basket)\n",
        "else:\n",
        "    print(\"\\nCannot pop from an empty basket.\")\n",
        "\n",
        "# Clear the basket\n",
        "fruit_basket.clear()\n",
        "print(\"\\nBasket after clearing all fruits:\", fruit_basket)"
      ],
      "metadata": {
        "id": "_9xbUfDhTzrc"
      },
      "execution_count": null,
      "outputs": []
    },
    {
      "cell_type": "code",
      "source": [
        "'''strings are bit of text they can be defined as anything bettwen quotes\n",
        "how to print the following\n",
        "Don't touch it\n",
        "\"google.com\"\n",
        "\n",
        "Teacher's Day is \"My Day\"'''"
      ],
      "metadata": {
        "id": "rWJQiiVdaPs2"
      },
      "execution_count": null,
      "outputs": []
    },
    {
      "cell_type": "code",
      "source": [
        "S = \"Don't touch it\"\n",
        "print(S)"
      ],
      "metadata": {
        "id": "HnLf0wJGaoDQ"
      },
      "execution_count": null,
      "outputs": []
    },
    {
      "cell_type": "code",
      "source": [
        "A = \"'google.com'\"\n",
        "print(A)"
      ],
      "metadata": {
        "id": "yUY2p_GPa1eb"
      },
      "execution_count": null,
      "outputs": []
    },
    {
      "cell_type": "code",
      "source": [
        "A = '\"My Day\"'\n",
        "print(A)\n"
      ],
      "metadata": {
        "id": "0L5DHThZbAeG"
      },
      "execution_count": null,
      "outputs": []
    },
    {
      "cell_type": "code",
      "source": [
        "#len(): it is used to find lenght of the string\n",
        "S1 = \"Akanksha is teaching DBMS and Python\"\n",
        "len(S1)"
      ],
      "metadata": {
        "id": "v23CloAbbSf_"
      },
      "execution_count": null,
      "outputs": []
    },
    {
      "cell_type": "code",
      "source": [
        "\"Harry\".index('a')"
      ],
      "metadata": {
        "id": "sFUK1rLFbyaP"
      },
      "execution_count": null,
      "outputs": []
    },
    {
      "cell_type": "code",
      "source": [
        "'''Example : to extract DBMS from string by default the step value is +1\n",
        "Beginning value included but ending value excluded\n",
        "s1[19:23]\n",
        "here 19 index has '23' and 24 index has space'''"
      ],
      "metadata": {
        "id": "3r4D1xjJdZOe"
      },
      "execution_count": null,
      "outputs": []
    },
    {
      "cell_type": "code",
      "source": [
        "# Strings problem\n",
        "# PROBLEM 1\n",
        "name = \"khushi\"\n",
        "age = 18\n",
        "print(f\"My name is {name} and I am {age} years old\")\n",
        "\n",
        "name = input(\"Enter your name:\")\n",
        "\n",
        "print(f\"Good Afternoon , {name}\")"
      ],
      "metadata": {
        "id": "-3N9cXDZTwt-"
      },
      "execution_count": null,
      "outputs": []
    },
    {
      "cell_type": "code",
      "source": [
        "#PROBLEM 2\n",
        "letter = '''Dear <|Name|>,\n",
        "You are selected!\n",
        "<|Date|>'''\n",
        "\n",
        "print(letter.replace(\"<|Name|>\",\"Harry\").replace(\"<|Date|\",\"24 september 2050\"))"
      ],
      "metadata": {
        "id": "4yp7qDb4UZkr"
      },
      "execution_count": null,
      "outputs": []
    },
    {
      "cell_type": "code",
      "source": [
        "#PROBLEM 3\n",
        "name = \"Harry is a good  boy and  \"\n",
        "\n",
        "print(name.find(\"\"))\n",
        "# result -1 aata h toh double spacing nhi h aagr nhi aata h kloi positive number aata h toh double spacing h\n",
        "# Find string is used to detect h double space in a string\n",
        "# replacd string is used to replace the double string into single string\n",
        "# string are immutable -- That's mean name string (actual string)woh change nhi hui h ek new string bani aur woh change hui h"
      ],
      "metadata": {
        "id": "Ig5R7CqtUcav"
      },
      "execution_count": null,
      "outputs": []
    },
    {
      "cell_type": "code",
      "source": [
        "#PROBLEM 4\n",
        "letter = \"Dear Harry,\\n\\tThis python course is nice,\\nThanks!\"\n",
        "print(letter)"
      ],
      "metadata": {
        "id": "aqYAxFgIUfnn"
      },
      "execution_count": null,
      "outputs": []
    },
    {
      "cell_type": "code",
      "source": [
        "#TUPLE\n",
        "'''tuple is also a type of sequence we use parenthesis\n",
        "we can do changes in list not in tuple\n",
        "tuple are immutable\n",
        "#HOW TO CREATE TUPLE'''\n",
        "'''t = ()\n",
        "type() //show tuple\n",
        "but if you write\n",
        "\n",
        "t = (10) then it is an integer\n",
        "type(t)  // show integer\n",
        "\n",
        "how we can make tuple of single value\n",
        "t=(10,)\n",
        "type(t)    //comma is required'''\n"
      ],
      "metadata": {
        "id": "uwAVZb1HWbXx"
      },
      "execution_count": null,
      "outputs": []
    },
    {
      "cell_type": "code",
      "source": [
        "t=(10,)\n",
        "type(t)"
      ],
      "metadata": {
        "id": "L3cZL1gEXbI6"
      },
      "execution_count": null,
      "outputs": []
    },
    {
      "cell_type": "code",
      "source": [
        "l = [11,22,33,44]\n",
        "t = tuple(l)\n",
        "type(l)            #we can store list as a tuple also"
      ],
      "metadata": {
        "id": "KX-WcuRCXhwR"
      },
      "execution_count": null,
      "outputs": []
    },
    {
      "cell_type": "code",
      "source": [
        "t = tuple(21,22,33)\n",
        "type(t)"
      ],
      "metadata": {
        "id": "lZ0HQBHPYABN"
      },
      "execution_count": null,
      "outputs": []
    },
    {
      "cell_type": "code",
      "source": [
        "a = 1\n",
        "b=2\n",
        "c=3\n",
        "t=a,b,c\n",
        "print(t)\n",
        "\n",
        "type(t)\n"
      ],
      "metadata": {
        "id": "Jpoib80lYYS9"
      },
      "execution_count": null,
      "outputs": []
    },
    {
      "cell_type": "code",
      "source": [
        "t = (10,20,30)\n",
        "a,b,c            #how to discreate values"
      ],
      "metadata": {
        "id": "zBs9qfZmZ0AK"
      },
      "execution_count": null,
      "outputs": []
    },
    {
      "cell_type": "code",
      "source": [
        "A = 1,2,3\n",
        "B = 5,6,7\n",
        "C = print(A+B)       #concatenation"
      ],
      "metadata": {
        "id": "dxza4P9JaL9-"
      },
      "execution_count": null,
      "outputs": []
    },
    {
      "cell_type": "code",
      "source": [
        "# tuple will not be change if repetition operator is access\n",
        "#but if you want to to change the update the tuple then you will"
      ],
      "metadata": {
        "id": "4mkqJuuJaY42"
      },
      "execution_count": null,
      "outputs": []
    },
    {
      "cell_type": "code",
      "source": [
        "'''a=1,2,3\n",
        "b=4,5,6\n",
        "a=b    a ki value ko b ko assign kar raha h         # assignment operators right to left precedence h\n",
        "a==b  #true     comparison\n",
        "\n",
        "c=1,2,4\n",
        "a==c         #false\n",
        "\n",
        "A<C\n",
        "false because we take tuple in small a and b'''"
      ],
      "metadata": {
        "id": "0UDP7tTPa20r"
      },
      "execution_count": null,
      "outputs": []
    },
    {
      "cell_type": "code",
      "source": [
        "'''we can use 2 method for taking input as tuple\n",
        "1. tuple(input()): as input () will return string that will be converted itno tuple which will be stored in variable\n",
        "see in example that will consider ',' as a part of tuple'''\n",
        "\n",
        "#input hamesha string leti h"
      ],
      "metadata": {
        "id": "-Nn-ySThceeN"
      },
      "execution_count": null,
      "outputs": []
    },
    {
      "cell_type": "code",
      "source": [
        "a = tuple(input(\"Enter your name\"))\n",
        "print(a)"
      ],
      "metadata": {
        "id": "OXIenshkeB63",
        "colab": {
          "base_uri": "https://localhost:8080/"
        },
        "outputId": "ee2e1516-7918-41fb-a263-fc3d50287e87"
      },
      "execution_count": 17,
      "outputs": [
        {
          "output_type": "stream",
          "name": "stdout",
          "text": [
            "Enter your name khushi\n",
            "(' ', 'k', 'h', 'u', 's', 'h', 'i')\n"
          ]
        }
      ]
    },
    {
      "cell_type": "code",
      "source": [
        "#eval\n",
        "eval(\"5+2\")\n"
      ],
      "metadata": {
        "id": "_IINLH-zfk4P",
        "colab": {
          "base_uri": "https://localhost:8080/"
        },
        "outputId": "716a4462-d721-476b-90a2-ca3c9b3cccec"
      },
      "execution_count": 16,
      "outputs": [
        {
          "output_type": "execute_result",
          "data": {
            "text/plain": [
              "7"
            ]
          },
          "metadata": {},
          "execution_count": 16
        }
      ]
    },
    {
      "cell_type": "code",
      "source": [
        "x = eval(input(\"enter a tuple\"))\n",
        "print(x)                            # eval jo bhi input me lete ho woh expression ki tarah treat karta h and jaha bhi eval loge waha expression bhi calsulate kar sakte ho\n",
        "\n",
        "type(x)"
      ],
      "metadata": {
        "id": "li4e7V0qfmRm",
        "colab": {
          "base_uri": "https://localhost:8080/"
        },
        "outputId": "82598048-9435-4111-c156-54302a92d778"
      },
      "execution_count": 15,
      "outputs": [
        {
          "output_type": "stream",
          "name": "stdout",
          "text": [
            "enter a tuple 5\n",
            "5\n"
          ]
        },
        {
          "output_type": "execute_result",
          "data": {
            "text/plain": [
              "int"
            ]
          },
          "metadata": {},
          "execution_count": 15
        }
      ]
    },
    {
      "cell_type": "code",
      "source": [
        "t = (1, 2, 3, 5, 6, 7,8,9,10)      #sum of tuple\n",
        "sum(t)"
      ],
      "metadata": {
        "id": "r8aZVIKNgVyo",
        "colab": {
          "base_uri": "https://localhost:8080/"
        },
        "outputId": "289b1006-4d58-444a-82e4-f29dfcb8cfdf"
      },
      "execution_count": 13,
      "outputs": [
        {
          "output_type": "execute_result",
          "data": {
            "text/plain": [
              "51"
            ]
          },
          "metadata": {},
          "execution_count": 13
        }
      ]
    },
    {
      "cell_type": "code",
      "source": [
        "t = (1, 2, 3, 5, 6, 7,8,9,10)\n",
        "len(t)                             #length of tuple    syntax: length(variable)"
      ],
      "metadata": {
        "id": "0Zqsefb4g-jq",
        "colab": {
          "base_uri": "https://localhost:8080/"
        },
        "outputId": "f33d5cad-77be-4ec3-aa81-b226fa2e0c87"
      },
      "execution_count": 12,
      "outputs": [
        {
          "output_type": "execute_result",
          "data": {
            "text/plain": [
              "9"
            ]
          },
          "metadata": {},
          "execution_count": 12
        }
      ]
    },
    {
      "cell_type": "code",
      "source": [
        "a = (1,2,1,3,1,4,1,5,6,7)\n",
        "a.count(1)                   #count the element in tuple      syntax: variable.count(element)"
      ],
      "metadata": {
        "id": "gJ_S4UpehXnK",
        "colab": {
          "base_uri": "https://localhost:8080/"
        },
        "outputId": "0988ef4e-d733-4cc9-efdd-aee9a16f5b31"
      },
      "execution_count": 11,
      "outputs": [
        {
          "output_type": "execute_result",
          "data": {
            "text/plain": [
              "4"
            ]
          },
          "metadata": {},
          "execution_count": 11
        }
      ]
    },
    {
      "cell_type": "code",
      "source": [
        "a = (1,2,1,3,1,4,1,5,6,7)\n",
        "a.index(4)                   #indexing in tuple           syntax: variable.index(element)"
      ],
      "metadata": {
        "id": "EoPyVQMhh5Uv",
        "colab": {
          "base_uri": "https://localhost:8080/"
        },
        "outputId": "cbfab0f2-4343-4044-b8c3-33b2b6818248"
      },
      "execution_count": 10,
      "outputs": [
        {
          "output_type": "execute_result",
          "data": {
            "text/plain": [
              "5"
            ]
          },
          "metadata": {},
          "execution_count": 10
        }
      ]
    },
    {
      "cell_type": "code",
      "source": [
        "a = (1,2,1,3,1,4,1,5,6,7)\n",
        "max(a)                     #maximum value in a particular tuple    #syntax: max(variable)"
      ],
      "metadata": {
        "id": "fRkufIkKiQb9",
        "colab": {
          "base_uri": "https://localhost:8080/"
        },
        "outputId": "32715d6d-9401-4a39-d7f0-f12fc9d65870"
      },
      "execution_count": 9,
      "outputs": [
        {
          "output_type": "execute_result",
          "data": {
            "text/plain": [
              "7"
            ]
          },
          "metadata": {},
          "execution_count": 9
        }
      ]
    },
    {
      "cell_type": "code",
      "source": [
        "a = (2,6,7,8,10,100,50)\n",
        "min(a)                           #minimun value in a particular tuple   #syntax: min(variable)"
      ],
      "metadata": {
        "id": "1KFFzCkNirsY",
        "colab": {
          "base_uri": "https://localhost:8080/"
        },
        "outputId": "e8cea06d-217a-4874-8651-b65d2a6d7ea6"
      },
      "execution_count": 8,
      "outputs": [
        {
          "output_type": "execute_result",
          "data": {
            "text/plain": [
              "2"
            ]
          },
          "metadata": {},
          "execution_count": 8
        }
      ]
    },
    {
      "cell_type": "code",
      "source": [
        "A = [10,100,200,500,60]\n",
        "min(A)"
      ],
      "metadata": {
        "id": "oi_RdU28i149",
        "colab": {
          "base_uri": "https://localhost:8080/"
        },
        "outputId": "66bbd136-1b48-4b9c-cb7e-a2d5d1231366"
      },
      "execution_count": 7,
      "outputs": [
        {
          "output_type": "execute_result",
          "data": {
            "text/plain": [
              "10"
            ]
          },
          "metadata": {},
          "execution_count": 7
        }
      ]
    },
    {
      "cell_type": "code",
      "source": [
        "A = [10,100,200,500,60]\n",
        "max(A)"
      ],
      "metadata": {
        "id": "FGt_xOG2kCBL",
        "colab": {
          "base_uri": "https://localhost:8080/"
        },
        "outputId": "0d9d43a3-e0f1-49b4-ca7b-9729affc6527"
      },
      "execution_count": 6,
      "outputs": [
        {
          "output_type": "execute_result",
          "data": {
            "text/plain": [
              "500"
            ]
          },
          "metadata": {},
          "execution_count": 6
        }
      ]
    },
    {
      "cell_type": "code",
      "source": [
        "A = [100,500,1000,]\n",
        "B = [600,700,300]\n",
        "max(A+B)"
      ],
      "metadata": {
        "id": "ssNwDCRzkT02",
        "colab": {
          "base_uri": "https://localhost:8080/"
        },
        "outputId": "ce12cc68-4127-4904-9b5d-6cfdfc8e52d8"
      },
      "execution_count": 5,
      "outputs": [
        {
          "output_type": "execute_result",
          "data": {
            "text/plain": [
              "1000"
            ]
          },
          "metadata": {},
          "execution_count": 5
        }
      ]
    },
    {
      "cell_type": "code",
      "source": [
        "A = [100,500,1000,]\n",
        "B = [600,700,300]\n",
        "min(A+B)"
      ],
      "metadata": {
        "id": "rRtcDmKAkfPZ",
        "colab": {
          "base_uri": "https://localhost:8080/"
        },
        "outputId": "0ad94077-cfb2-4d10-c76b-5c577c71758a"
      },
      "execution_count": 4,
      "outputs": [
        {
          "output_type": "execute_result",
          "data": {
            "text/plain": [
              "100"
            ]
          },
          "metadata": {},
          "execution_count": 4
        }
      ]
    },
    {
      "cell_type": "code",
      "source": [
        "\n",
        "#sets iss as unordered collection of data type that is iterable(retition)mutable and and has no duplicate element. python set class represents tht mathematical notion of a set. # Set is a datatype\n",
        "'''this is based on the data srtructure known s hash table since sets is unordered we cannot access items using indexes like we do in lists (indexing is bot allow)'''"
      ],
      "metadata": {
        "id": "tOcRi6oak0sR"
      },
      "execution_count": null,
      "outputs": []
    },
    {
      "cell_type": "code",
      "source": [
        "normal_set = set({\"a\",\"b\",\"c\"})\n",
        "print(\"normal set\")\n",
        "print(normal_set)          #normal set"
      ],
      "metadata": {
        "id": "aehCBJr3kWMX",
        "colab": {
          "base_uri": "https://localhost:8080/"
        },
        "outputId": "30ca406a-a30c-496b-c323-5ec3e733985f"
      },
      "execution_count": 2,
      "outputs": [
        {
          "output_type": "stream",
          "name": "stdout",
          "text": [
            "normal set\n",
            "{'c', 'b', 'a'}\n"
          ]
        }
      ]
    },
    {
      "cell_type": "code",
      "source": [
        "#frozen set\n",
        "frozen_set = frozenset({\"a\",\"b\",\"c\"})\n",
        "print(\"frozen set\")\n",
        "print(frozen_set)"
      ],
      "metadata": {
        "id": "o1Irmlo9lM7d",
        "colab": {
          "base_uri": "https://localhost:8080/"
        },
        "outputId": "4ff7395b-e53f-4d06-b6b2-88ee5e9d6de7"
      },
      "execution_count": 3,
      "outputs": [
        {
          "output_type": "stream",
          "name": "stdout",
          "text": [
            "frozen set\n",
            "frozenset({'c', 'b', 'a'})\n"
          ]
        }
      ]
    },
    {
      "cell_type": "code",
      "source": [
        "'''frozen set are immutable objects that only methods and operators tat produce a result without affecting the frozen set or sets to which they are applied. while elements of a set can be modified at any time elements of the frozen set remain the same after creation '''"
      ],
      "metadata": {
        "id": "WOgYAeTkmwUK"
      },
      "execution_count": null,
      "outputs": []
    },
    {
      "cell_type": "code",
      "source": [
        "#METHODS OF SET\n",
        "'''adding element\n",
        "insertion in set is done through set.add() function.'''"
      ],
      "metadata": {
        "id": "e80fVu7hnWKx"
      },
      "execution_count": null,
      "outputs": []
    },
    {
      "cell_type": "code",
      "source": [
        "people = {\"jay\",\"archi\",\"irish\"}\n",
        "print(\"people:\",end = \" \")\n",
        "people.add(\"david\")            #set.add()\n",
        "print(people)"
      ],
      "metadata": {
        "id": "lfk6srZWn-fl",
        "colab": {
          "base_uri": "https://localhost:8080/"
        },
        "outputId": "c4cef7a4-a3fd-4645-f772-7b49025d0165"
      },
      "execution_count": 18,
      "outputs": [
        {
          "output_type": "stream",
          "name": "stdout",
          "text": [
            "people: {'archi', 'jay', 'david', 'irish'}\n"
          ]
        }
      ]
    },
    {
      "cell_type": "code",
      "source": [
        "s1 = {1,3,45,6,78}     #{1,45} is the subset of the set 1\n",
        "\n",
        "s2 = {7,8,1,78}      # {7,8} is the subset of the set 2\n",
        "\n",
        "print(s1.union(s2))     #saare element ek hi set me jate h aur 2 same element me ek hi set me aa jate h\n",
        "\n",
        "print(s1.intersection(s2))   # jo same element hote dono eset me woh ek sath aa jate h"
      ],
      "metadata": {
        "id": "qpO1iey1plRo",
        "colab": {
          "base_uri": "https://localhost:8080/"
        },
        "outputId": "e6c71382-ff37-49a0-cb9b-bc4fbf545c37"
      },
      "execution_count": 19,
      "outputs": [
        {
          "output_type": "stream",
          "name": "stdout",
          "text": [
            "{1, 3, 6, 7, 8, 45, 78}\n",
            "{1, 78}\n"
          ]
        }
      ]
    },
    {
      "cell_type": "code",
      "source": [
        "s1 = {1,3,45,6,78}     #{1,45} is the subset of the set 1\n",
        "\n",
        "s2 = {7,8,1,78}      # {7,8} is the subset of the set 2\n",
        "\n",
        "print(s1|s2)        #| use as a operator for union we use union and | this for uniting two sets"
      ],
      "metadata": {
        "id": "Sia8uny1q3aK",
        "colab": {
          "base_uri": "https://localhost:8080/"
        },
        "outputId": "98101aa8-d0d6-43d0-c0f7-84d20ebb6152"
      },
      "execution_count": 20,
      "outputs": [
        {
          "output_type": "stream",
          "name": "stdout",
          "text": [
            "{1, 3, 6, 7, 8, 45, 78}\n"
          ]
        }
      ]
    },
    {
      "cell_type": "code",
      "source": [
        "s1 = {1,3,45,6,78}     #{1,45} is the subset of the set 1\n",
        "\n",
        "s2 = {7,8,1,78}\n",
        "\n",
        "s3 = {6,100,200,300,400}\n",
        "\n",
        "s4 = {600,700,800,900,300}\n",
        "\n",
        "print(s1|s2|s3|s4)"
      ],
      "metadata": {
        "id": "saUSGT8WsF2V",
        "colab": {
          "base_uri": "https://localhost:8080/"
        },
        "outputId": "c49a44a3-3e8d-45e0-d41e-09c44fffc36a"
      },
      "execution_count": 21,
      "outputs": [
        {
          "output_type": "stream",
          "name": "stdout",
          "text": [
            "{800, 1, 3, 100, 900, 6, 7, 8, 200, 300, 45, 78, 400, 600, 700}\n"
          ]
        }
      ]
    },
    {
      "cell_type": "code",
      "source": [
        "s = set()\n",
        "\n",
        "set1 = set() # Corrected: Initialize set1\n",
        "for i in range(5):\n",
        "    print(i)\n",
        "    set1.add(i)\n",
        "\n",
        "set2 = set() # Corrected: Initialize set2\n",
        "for i in range(3,5):\n",
        "    print(i)\n",
        "    set2.add(i)\n",
        "\n",
        "set3 = set1.intersection(set2) # Corrected: Use the intersection method correctly\n",
        "print(set3) # Added print to show the result"
      ],
      "metadata": {
        "id": "GzNcR5xWtJT_",
        "colab": {
          "base_uri": "https://localhost:8080/"
        },
        "outputId": "28b04b48-3e50-41e5-a457-41b2db6ba19e"
      },
      "execution_count": 22,
      "outputs": [
        {
          "output_type": "stream",
          "name": "stdout",
          "text": [
            "0\n",
            "1\n",
            "2\n",
            "3\n",
            "4\n",
            "3\n",
            "4\n",
            "{3, 4}\n"
          ]
        }
      ]
    },
    {
      "cell_type": "code",
      "source": [
        "s1 = {1,3,45,6,78}     #{1,45} is the subset of the set 1\n",
        "\n",
        "s2 = {7,8,1,78}\n",
        "\n",
        "s3 = {6,100,200,300,400}\n",
        "\n",
        "s4 = {600,700,800,900,300}\n",
        "\n",
        "diff1 = s1-s2\n",
        "diff2 = s4-s3\n",
        "print(diff1)\n",
        "print(diff2)\n"
      ],
      "metadata": {
        "id": "rQqEttVSwc86",
        "colab": {
          "base_uri": "https://localhost:8080/"
        },
        "outputId": "77ab1e6b-2cac-4c6f-89ae-a1cbe7b43b78"
      },
      "execution_count": 23,
      "outputs": [
        {
          "output_type": "stream",
          "name": "stdout",
          "text": [
            "{3, 45, 6}\n",
            "{800, 900, 600, 700}\n"
          ]
        }
      ]
    },
    {
      "cell_type": "code",
      "source": [
        "#disjoint set = similiar set"
      ],
      "metadata": {
        "id": "t6w3ippSw3YW"
      },
      "execution_count": null,
      "outputs": []
    },
    {
      "cell_type": "code",
      "source": [
        "#DICTIONARY is the key value pair\n",
        "student = {\n",
        "    \"name\": \"John\",\n",
        "    \"age\": 20,\n",
        "    \"grade\": \"A\",\n",
        "    \"city\": \"New York\"\n",
        "}\n",
        "\n",
        "print(student)"
      ],
      "metadata": {
        "id": "nYP4Xz8K5zY4",
        "colab": {
          "base_uri": "https://localhost:8080/"
        },
        "outputId": "da7703dd-6dbd-403f-b41a-33c2faaff47c"
      },
      "execution_count": 24,
      "outputs": [
        {
          "output_type": "stream",
          "name": "stdout",
          "text": [
            "{'name': 'John', 'age': 20, 'grade': 'A', 'city': 'New York'}\n"
          ]
        }
      ]
    },
    {
      "cell_type": "code",
      "source": [
        "marks = {\n",
        "    \"Harry\" : 56,\n",
        "    \"Rohan\" : 100,\n",
        "    \"Shubham\" : 23,\n",
        "\n",
        "}\n",
        "\n",
        "print(marks.keys())\n",
        "print(marks.values())"
      ],
      "metadata": {
        "id": "rcD4kLpwqA3R",
        "colab": {
          "base_uri": "https://localhost:8080/"
        },
        "outputId": "a58ac57a-f591-404c-98eb-9f95ce1d4b55"
      },
      "execution_count": 25,
      "outputs": [
        {
          "output_type": "stream",
          "name": "stdout",
          "text": [
            "dict_keys(['Harry', 'Rohan', 'Shubham'])\n",
            "dict_values([56, 100, 23])\n"
          ]
        }
      ]
    },
    {
      "cell_type": "code",
      "source": [
        "#add a new keys in a dictionary\n",
        "#update a new key\n",
        "#to delete (del)\n"
      ],
      "metadata": {
        "id": "5kMj7tKXrBsd"
      },
      "execution_count": null,
      "outputs": []
    },
    {
      "cell_type": "code",
      "source": [
        "marks = {\n",
        "    \"Harry\" : 56,\n",
        "    \"Rohan\" : 100,\n",
        "    \"Shubham\" : 23,\n",
        "}\n",
        "marks.update({\"Akanksha\":45})         #+= update\n",
        "print(marks)\n"
      ],
      "metadata": {
        "id": "3YwFf4NDrhl4",
        "colab": {
          "base_uri": "https://localhost:8080/"
        },
        "outputId": "ea358fb9-bb95-4320-c3c7-ea819c3f7764"
      },
      "execution_count": 26,
      "outputs": [
        {
          "output_type": "stream",
          "name": "stdout",
          "text": [
            "{'Harry': 56, 'Rohan': 100, 'Shubham': 23, 'Akanksha': 45}\n"
          ]
        }
      ]
    },
    {
      "cell_type": "code",
      "source": [
        "marks = {\n",
        "    \"Harry\" : 56,\n",
        "    \"Rohan\" : 100,\n",
        "    \"Shubham\" : 23,\n",
        "}\n",
        "del marks[\"Harry\"]\n",
        "print(marks)"
      ],
      "metadata": {
        "id": "Mb-oTN5Ashwp",
        "colab": {
          "base_uri": "https://localhost:8080/"
        },
        "outputId": "22800143-7ce0-4d8d-c3ca-cce4a362955f"
      },
      "execution_count": 27,
      "outputs": [
        {
          "output_type": "stream",
          "name": "stdout",
          "text": [
            "{'Rohan': 100, 'Shubham': 23}\n"
          ]
        }
      ]
    },
    {
      "cell_type": "code",
      "source": [
        "marks = {\n",
        "    \"Harry\": 56,\n",
        "    \"Rohan\": 100,\n",
        "    \"Shubham\": 23,\n",
        "}\n",
        "\n",
        "# Correct way to add a new item to a dictionary\n",
        "marks[\"Akanksha\"] = 45\n",
        "\n",
        "print(marks)\n",
        "\n"
      ],
      "metadata": {
        "id": "UK7fwzDTtuoA",
        "colab": {
          "base_uri": "https://localhost:8080/"
        },
        "outputId": "77b0075c-2634-4e69-ff53-d98ce47cb937"
      },
      "execution_count": 28,
      "outputs": [
        {
          "output_type": "stream",
          "name": "stdout",
          "text": [
            "{'Harry': 56, 'Rohan': 100, 'Shubham': 23, 'Akanksha': 45}\n"
          ]
        }
      ]
    },
    {
      "cell_type": "code",
      "source": [
        "#f string to formatting the output\n"
      ],
      "metadata": {
        "id": "1Yr00SlwuY54"
      },
      "execution_count": null,
      "outputs": []
    },
    {
      "cell_type": "code",
      "source": [
        "#FUNCTIONS\n",
        "'''curly braces\n",
        "processor of the function,subroutine (name of function)\n",
        "reusability\n",
        "def my_function()\n",
        " function\n",
        " #function calling\n",
        " my_function()'''\n",
        "\n",
        "def hello_world():\n",
        "  print(\"hello world\")\n",
        "  hello_world()                 #kisi bhi function ko call karne ke liye function aur uske sath parenthesis\n"
      ],
      "metadata": {
        "id": "LwzcVShOxcSs"
      },
      "execution_count": null,
      "outputs": []
    },
    {
      "cell_type": "code",
      "source": [
        "def hello_world():\n",
        "  print(\"hello world\")\n",
        "  hello_world()  # infinite recursive call\n",
        "\n",
        "  hello_world()\n",
        "\n",
        "\n"
      ],
      "metadata": {
        "id": "f9UOIRWz0TIY"
      },
      "execution_count": null,
      "outputs": []
    },
    {
      "cell_type": "code",
      "source": [
        "#defining the funtion\n",
        "def func(name):\n",
        "  print(\"Hi\", name)\n",
        "\n",
        "# function call\n",
        "func(\"khushi\")"
      ],
      "metadata": {
        "id": "fwJEgh7u0YXf"
      },
      "execution_count": null,
      "outputs": []
    },
    {
      "cell_type": "code",
      "source": [
        "def sum(a,b):\n",
        "  return a+b\n",
        "a = int(input(\"Enter a:\"))\n",
        "b = int(input(\"Enter b:\"))\n",
        "\n",
        "print(\"Sum =\" , sum(a,b))\n",
        "\n"
      ],
      "metadata": {
        "id": "jJGY1oIl1hNI"
      },
      "execution_count": null,
      "outputs": []
    },
    {
      "cell_type": "code",
      "source": [
        "# required arguement = the arguement name is required in the program\n",
        "def func(name):\n",
        "  message = \"Hi\"+name\n",
        "  return message;\n",
        "name = input(\"Enter your name:\")\n",
        "print(func(name))"
      ],
      "metadata": {
        "id": "zHSl_WEx2HOs"
      },
      "execution_count": null,
      "outputs": []
    },
    {
      "cell_type": "code",
      "source": [
        "#simple interest program\n",
        "def simple_interest(p,t,r):\n",
        "  return(p*t*r)/100\n",
        "  p = float(input(\"Enter the principal amount:\"))\n",
        "  t = float(input(\"Enter the time:\"))\n",
        "  r = float(input(\"Enter the rate:\"))\n",
        "  print(\"Simple interest\")"
      ],
      "metadata": {
        "id": "Dr9UQV3P3DBY"
      },
      "execution_count": null,
      "outputs": []
    },
    {
      "cell_type": "code",
      "source": [
        "#after function calculate returns the sum of two required function"
      ],
      "metadata": {
        "id": "zk0WUFke3NsY"
      },
      "execution_count": null,
      "outputs": []
    },
    {
      "cell_type": "code",
      "source": [
        "#Keyword Arguement\n",
        "#function func is called with the name and message as the keyword arguement\n",
        "def func(name,message):\n",
        "  print(\"printing the message with\" name and ,\"message\")\n"
      ],
      "metadata": {
        "id": "Vp_NipeB4FC_"
      },
      "execution_count": null,
      "outputs": []
    },
    {
      "cell_type": "code",
      "source": [
        "def simple_interest(p,t,r):\n",
        "  interest = (p*t*r)/100\n",
        "  print(\"Simple interest:\",interest)\n",
        "  # print(f\"simple interest = {interest}\") # This line is redundant now\n",
        "\n",
        "simple_interest(t=10,r=10,p=1900)"
      ],
      "metadata": {
        "id": "DPv3_GIA5Fy0"
      },
      "execution_count": null,
      "outputs": []
    },
    {
      "cell_type": "code",
      "source": [
        "#Default Arguement\n",
        "def printme(name,age=22):\n",
        "  print(\"My name is\",name,\"and age is\",age)\n",
        "  printme(name=\"john\")\n",
        "\n",
        "  #printme(age=10,name=\"david\") to update the name and age which is used as default in above\n"
      ],
      "metadata": {
        "id": "tC1-MeQc5FtB"
      },
      "execution_count": null,
      "outputs": []
    },
    {
      "cell_type": "code",
      "source": [
        "#RECURSION\n",
        "'''Definition:\n",
        "Recursion is a programming technique where a function calls itself to solve a smaller part of a larger problem.\n",
        "\n",
        "SYNTAX\n",
        "\n",
        "def recursive_function():\n",
        "    # base case (stopping condition)\n",
        "    if condition:\n",
        "        return result\n",
        "    else:\n",
        "        # recursive case\n",
        "        return recursive_function()  # function calling itself'''\n",
        "\n",
        "\n"
      ],
      "metadata": {
        "id": "9SwxowGl7zzV"
      },
      "execution_count": null,
      "outputs": []
    },
    {
      "cell_type": "code",
      "source": [
        "def factorial(n):\n",
        "    if n == 0 or n == 1:\n",
        "        return 1   # base case\n",
        "    else:\n",
        "        return n * factorial(n - 1)  # recursive call\n",
        "\n",
        "print(factorial(5))"
      ],
      "metadata": {
        "colab": {
          "base_uri": "https://localhost:8080/"
        },
        "id": "U0-Up_l7jGn6",
        "outputId": "394a656f-8616-4114-eac6-d20739eae230"
      },
      "execution_count": 1,
      "outputs": [
        {
          "output_type": "stream",
          "name": "stdout",
          "text": [
            "120\n"
          ]
        }
      ]
    }
  ],
  "metadata": {
    "colab": {
      "provenance": [],
      "authorship_tag": "ABX9TyPZQZAB57o303BI6J5bmn1j",
      "include_colab_link": true
    },
    "kernelspec": {
      "display_name": "Python 3",
      "name": "python3"
    },
    "language_info": {
      "name": "python"
    }
  },
  "nbformat": 4,
  "nbformat_minor": 0
}